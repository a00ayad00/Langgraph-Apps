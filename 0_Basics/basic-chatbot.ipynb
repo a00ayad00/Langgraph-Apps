{
 "cells": [
  {
   "cell_type": "markdown",
   "id": "fc61057d",
   "metadata": {},
   "source": [
    "# Basic Chatbot"
   ]
  },
  {
   "cell_type": "code",
   "execution_count": 3,
   "id": "67c9f9d0",
   "metadata": {},
   "outputs": [
    {
     "data": {
      "text/plain": [
       "True"
      ]
     },
     "execution_count": 3,
     "metadata": {},
     "output_type": "execute_result"
    }
   ],
   "source": [
    "from typing import Annotated\n",
    "from typing_extensions import TypedDict\n",
    "from langgraph.graph import StateGraph, START, END\n",
    "from langgraph.graph.message import add_messages\n",
    "from langchain_groq import ChatGroq\n",
    "from dotenv import load_dotenv\n",
    "from IPython.display import Image, display\n",
    "\n",
    "load_dotenv()"
   ]
  },
  {
   "cell_type": "code",
   "execution_count": 4,
   "id": "81d30820",
   "metadata": {},
   "outputs": [],
   "source": [
    "class State(TypedDict):\n",
    "    messages: Annotated[list, add_messages]\n",
    "\n",
    "graph = StateGraph(State)"
   ]
  },
  {
   "cell_type": "code",
   "execution_count": 5,
   "id": "bbdeaf04",
   "metadata": {},
   "outputs": [
    {
     "data": {
      "text/plain": [
       "ChatGroq(client=<groq.resources.chat.completions.Completions object at 0x0000027651F2CD70>, async_client=<groq.resources.chat.completions.AsyncCompletions object at 0x0000027651F2D940>, model_name='llama3-8b-8192', model_kwargs={}, groq_api_key=SecretStr('**********'))"
      ]
     },
     "execution_count": 5,
     "metadata": {},
     "output_type": "execute_result"
    }
   ],
   "source": [
    "# from langchain.chat_models import init_chat_model\n",
    "# llm = init_chat_model('groq:llama3-8b-8192')\n",
    "\n",
    "\n",
    "llm = ChatGroq(model=\"llama3-8b-8192\")\n",
    "llm"
   ]
  },
  {
   "cell_type": "code",
   "execution_count": 33,
   "id": "ec07c26e",
   "metadata": {},
   "outputs": [],
   "source": [
    "def chat(state: State):\n",
    "    return {'messages': [llm.invoke(state['messages'])]}"
   ]
  },
  {
   "cell_type": "code",
   "execution_count": 34,
   "id": "a80a0027",
   "metadata": {},
   "outputs": [
    {
     "data": {
      "text/plain": [
       "<langgraph.graph.state.StateGraph at 0x1ffec491f90>"
      ]
     },
     "execution_count": 34,
     "metadata": {},
     "output_type": "execute_result"
    }
   ],
   "source": [
    "graph.add_node(chat)\n",
    "\n",
    "graph.add_edge(START, 'chat')\n",
    "graph.add_edge('chat', END)"
   ]
  },
  {
   "cell_type": "code",
   "execution_count": 36,
   "id": "1f72eae2",
   "metadata": {},
   "outputs": [],
   "source": [
    "gr = graph.compile()"
   ]
  },
  {
   "cell_type": "code",
   "execution_count": null,
   "id": "684c737b",
   "metadata": {},
   "outputs": [
    {
     "data": {
      "image/png": "[encoded data removed]",
      "text/plain": [
       "<IPython.core.display.Image object>"
      ]
     },
     "metadata": {},
     "output_type": "display_data"
    }
   ],
   "source": [
    "display(Image(gr.get_graph().draw_mermaid_png()))"
   ]
  },
  {
   "cell_type": "code",
   "execution_count": 41,
   "id": "d7b0ebe2",
   "metadata": {},
   "outputs": [
    {
     "data": {
      "text/plain": [
       "{'messages': [HumanMessage(content='hi', additional_kwargs={}, response_metadata={}, id='d0138cf4-3604-4621-abf2-712bdbdfdb65'),\n",
       "  AIMessage(content=\"Hi! It's nice to meet you. Is there something I can help you with or would you like to chat?\", additional_kwargs={}, response_metadata={'token_usage': {'completion_tokens': 25, 'prompt_tokens': 11, 'total_tokens': 36, 'completion_time': 0.018842165, 'prompt_time': 0.001888378, 'queue_time': 0.169588147, 'total_time': 0.020730543}, 'model_name': 'llama3-8b-8192', 'system_fingerprint': 'fp_8b7c3a83f7', 'finish_reason': 'stop', 'logprobs': None}, id='run--b829a469-6e39-45cc-9835-500c89a69657-0', usage_metadata={'input_tokens': 11, 'output_tokens': 25, 'total_tokens': 36})]}"
      ]
     },
     "execution_count": 41,
     "metadata": {},
     "output_type": "execute_result"
    }
   ],
   "source": [
    "res = gr.invoke({'messages': 'hi'})\n",
    "res"
   ]
  },
  {
   "cell_type": "code",
   "execution_count": 43,
   "id": "1959a5a8",
   "metadata": {},
   "outputs": [
    {
     "data": {
      "text/plain": [
       "\"Hi! It's nice to meet you. Is there something I can help you with or would you like to chat?\""
      ]
     },
     "execution_count": 43,
     "metadata": {},
     "output_type": "execute_result"
    }
   ],
   "source": [
    "res['messages'][-1].content"
   ]
  },
  {
   "cell_type": "markdown",
   "id": "15dbded6",
   "metadata": {},
   "source": [
    "# Add Tools"
   ]
  },
  {
   "cell_type": "code",
   "execution_count": null,
   "id": "e3abf620",
   "metadata": {},
   "outputs": [],
   "source": [
    "from langchain_tavily import TavilySearch\n",
    "from langgraph.prebuilt import ToolNode, tools_condition"
   ]
  },
  {
   "cell_type": "code",
   "execution_count": 7,
   "id": "fe4d747d",
   "metadata": {},
   "outputs": [],
   "source": [
    "tavily = TavilySearch(max_results=2)\n",
    "\n",
    "tools = [tavily]"
   ]
  },
  {
   "cell_type": "code",
   "execution_count": 6,
   "id": "68329208",
   "metadata": {},
   "outputs": [
    {
     "data": {
      "text/plain": [
       "{'query': 'What is the capital of France?',\n",
       " 'follow_up_questions': None,\n",
       " 'answer': None,\n",
       " 'images': [],\n",
       " 'results': [{'url': 'https://home.adelphi.edu/~ca19535/page%204.html',\n",
       "   'title': 'Paris facts: the capital of France in history',\n",
       "   'content': 'Paris, France Paris facts: Paris, the capital of France Paris is the capital of France, the largest country of Europe with 550 000 km2 (65 millions inhabitants). Paris is a world capital city of shopping and fashion, with Channel, Dior, Vuitton, Yves Saint Laurent among many other top french fashion brands. Paris facts: the capital of France in history Before Paris, the capital of France was Lyon (under the Romans). Paris first became the capital of France in 508 under King Clovis. After centuries with no unique capital of France, Paris retrieved its status of capital of France under King Philippe Auguste, who reigned between 1180 and 1223. Paris remained the capital of France until today, with one four year interruption.',\n",
       "   'score': 0.89030397,\n",
       "   'raw_content': None},\n",
       "  {'url': 'https://en.wikipedia.org/wiki/Paris',\n",
       "   'title': 'Paris - Wikipedia',\n",
       "   'content': 'Paris is the capital and largest city of France. With an estimated population of 2,048,472 in January 2025 in an area of more than 105 km2 (41 sq mi),',\n",
       "   'score': 0.86024034,\n",
       "   'raw_content': None}],\n",
       " 'response_time': 1.41}"
      ]
     },
     "execution_count": 6,
     "metadata": {},
     "output_type": "execute_result"
    }
   ],
   "source": [
    "tavily.invoke('What is the capital of France?')"
   ]
  },
  {
   "cell_type": "code",
   "execution_count": 8,
   "id": "bc6ab3b5",
   "metadata": {},
   "outputs": [
    {
     "data": {
      "text/plain": [
       "[TavilySearch(max_results=2, api_wrapper=TavilySearchAPIWrapper(tavily_api_key=SecretStr('**********'))),\n",
       " <function __main__.mul(a: int, b: int) -> int>]"
      ]
     },
     "execution_count": 8,
     "metadata": {},
     "output_type": "execute_result"
    }
   ],
   "source": [
    "def mul(a: int, b: int) -> int:\n",
    "    \"\"\"Multiply a and b\n",
    "    Args:\n",
    "        a (int): First number\n",
    "        b (int): Second number\n",
    "    Returns:\n",
    "        int: The product of a and b\n",
    "    \"\"\"\n",
    "    return a * b\n",
    "\n",
    "\n",
    "tools.append(mul)\n",
    "tools"
   ]
  },
  {
   "cell_type": "code",
   "execution_count": 9,
   "id": "c836b45c",
   "metadata": {},
   "outputs": [
    {
     "data": {
      "text/plain": [
       "AIMessage(content='', additional_kwargs={'tool_calls': [{'id': 's2q7yg4tw', 'function': {'arguments': '{\"query\":\"What is the capital of France?\",\"search_depth\":\"basic\",\"topic\":\"general\"}', 'name': 'tavily_search'}, 'type': 'function'}]}, response_metadata={'token_usage': {'completion_tokens': 88, 'prompt_tokens': 2279, 'total_tokens': 2367, 'completion_time': 0.063826655, 'prompt_time': 0.250151167, 'queue_time': 0.17059520899999997, 'total_time': 0.313977822}, 'model_name': 'llama3-8b-8192', 'system_fingerprint': 'fp_2717d04279', 'finish_reason': 'tool_calls', 'logprobs': None}, id='run--5c9ef421-2637-4374-b1a9-f40adf1311a8-0', tool_calls=[{'name': 'tavily_search', 'args': {'query': 'What is the capital of France?', 'search_depth': 'basic', 'topic': 'general'}, 'id': 's2q7yg4tw', 'type': 'tool_call'}], usage_metadata={'input_tokens': 2279, 'output_tokens': 88, 'total_tokens': 2367})"
      ]
     },
     "execution_count": 9,
     "metadata": {},
     "output_type": "execute_result"
    }
   ],
   "source": [
    "llm_with_tools = llm.bind_tools(tools)\n",
    "llm_with_tools.invoke('What is the capital of France?')"
   ]
  },
  {
   "cell_type": "code",
   "execution_count": 9,
   "id": "dc8fb831",
   "metadata": {},
   "outputs": [
    {
     "data": {
      "text/plain": [
       "RunnableBinding(bound=ChatGroq(client=<groq.resources.chat.completions.Completions object at 0x000001265B78FCB0>, async_client=<groq.resources.chat.completions.AsyncCompletions object at 0x000001265B934980>, model_name='llama3-8b-8192', model_kwargs={}, groq_api_key=SecretStr('**********')), kwargs={'tools': [{'type': 'function', 'function': {'name': 'tavily_search', 'description': 'A search engine optimized for comprehensive, accurate, and trusted results. Useful for when you need to answer questions about current events. It not only retrieves URLs and snippets, but offers advanced search depths, domain management, time range filters, and image search, this tool delivers real-time, accurate, and citation-backed results.Input should be a search query.', 'parameters': {'properties': {'query': {'description': 'Search query to look up', 'type': 'string'}, 'include_domains': {'anyOf': [{'items': {'type': 'string'}, 'type': 'array'}, {'type': 'null'}], 'default': [], 'description': 'A list of domains to restrict search results to.\\n\\n        Use this parameter when:\\n        1. The user explicitly requests information from specific websites (e.g., \"Find climate data from nasa.gov\")\\n        2. The user mentions an organization or company without specifying the domain (e.g., \"Find information about iPhones from Apple\")\\n\\n        In both cases, you should determine the appropriate domains (e.g., [\"nasa.gov\"] or [\"apple.com\"]) and set this parameter.\\n\\n        Results will ONLY come from the specified domains - no other sources will be included.\\n        Default is None (no domain restriction).\\n        '}, 'exclude_domains': {'anyOf': [{'items': {'type': 'string'}, 'type': 'array'}, {'type': 'null'}], 'default': [], 'description': 'A list of domains to exclude from search results.\\n\\n        Use this parameter when:\\n        1. The user explicitly requests to avoid certain websites (e.g., \"Find information about climate change but not from twitter.com\")\\n        2. The user mentions not wanting results from specific organizations without naming the domain (e.g., \"Find phone reviews but nothing from Apple\")\\n\\n        In both cases, you should determine the appropriate domains to exclude (e.g., [\"twitter.com\"] or [\"apple.com\"]) and set this parameter.\\n\\n        Results will filter out all content from the specified domains.\\n        Default is None (no domain exclusion).\\n        '}, 'search_depth': {'anyOf': [{'enum': ['basic', 'advanced'], 'type': 'string'}, {'type': 'null'}], 'default': 'basic', 'description': 'Controls search thoroughness and result comprehensiveness.\\n    \\n        Use \"basic\" for simple queries requiring quick, straightforward answers.\\n        \\n        Use \"advanced\" (default) for complex queries, specialized topics, \\n        rare information, or when in-depth analysis is needed.\\n        '}, 'include_images': {'anyOf': [{'type': 'boolean'}, {'type': 'null'}], 'default': False, 'description': 'Determines if the search returns relevant images along with text results.\\n   \\n        Set to True when the user explicitly requests visuals or when images would \\n        significantly enhance understanding (e.g., \"Show me what black holes look like,\" \\n        \"Find pictures of Renaissance art\").\\n        \\n        Leave as False (default) for most informational queries where text is sufficient.\\n        '}, 'time_range': {'anyOf': [{'enum': ['day', 'week', 'month', 'year'], 'type': 'string'}, {'type': 'null'}], 'default': None, 'description': 'Limits results to content published within a specific timeframe.\\n        \\n        ONLY set this when the user explicitly mentions a time period \\n        (e.g., \"latest AI news,\" \"articles from last week\").\\n        \\n        For less popular or niche topics, use broader time ranges \\n        (\"month\" or \"year\") to ensure sufficient relevant results.\\n   \\n        Options: \"day\" (24h), \"week\" (7d), \"month\" (30d), \"year\" (365d).\\n        \\n        Default is None.\\n        '}, 'topic': {'anyOf': [{'enum': ['general', 'news', 'finance'], 'type': 'string'}, {'type': 'null'}], 'default': 'general', 'description': 'Specifies search category for optimized results.\\n   \\n        Use \"general\" (default) for most queries, INCLUDING those with terms like \\n        \"latest,\" \"newest,\" or \"recent\" when referring to general information.\\n\\n        Use \"finance\" for markets, investments, economic data, or financial news.\\n\\n        Use \"news\" ONLY for politics, sports, or major current events covered by \\n        mainstream media - NOT simply because a query asks for \"new\" information.\\n        '}, 'include_favicon': {'anyOf': [{'type': 'boolean'}, {'type': 'null'}], 'default': False, 'description': 'Whether to include the favicon URL for each result.'}}, 'required': ['query'], 'type': 'object'}}}, {'type': 'function', 'function': {'name': 'mul', 'description': 'Multiply a and b\\nArgs:\\n    a (int): First number\\n    b (int): Second number\\nReturns:\\n    int: The product of a and b', 'parameters': {'properties': {'a': {'type': 'integer'}, 'b': {'type': 'integer'}}, 'required': ['a', 'b'], 'type': 'object'}}}]}, config={}, config_factories=[])"
      ]
     },
     "execution_count": 9,
     "metadata": {},
     "output_type": "execute_result"
    }
   ],
   "source": [
    "llm_with_tools"
   ]
  },
  {
   "cell_type": "code",
   "execution_count": 10,
   "id": "f4652c68",
   "metadata": {},
   "outputs": [],
   "source": [
    "def chat(state: State):\n",
    "    return {'messages': [llm_with_tools.invoke(state['messages'])]}"
   ]
  },
  {
   "cell_type": "code",
   "execution_count": 11,
   "id": "d124a926",
   "metadata": {},
   "outputs": [
    {
     "data": {
      "image/png": "[encoded data removed]",
      "text/plain": [
       "<IPython.core.display.Image object>"
      ]
     },
     "metadata": {},
     "output_type": "display_data"
    }
   ],
   "source": [
    "graph = StateGraph(State)\n",
    "\n",
    "graph.add_node(chat)\n",
    "graph.add_node(ToolNode(tools))\n",
    "\n",
    "graph.add_edge(START, 'chat')\n",
    "graph.add_conditional_edges('chat', tools_condition)\n",
    "\n",
    "gr = graph.compile()\n",
    "\n",
    "display(Image(gr.get_graph().draw_mermaid_png()))"
   ]
  },
  {
   "cell_type": "code",
   "execution_count": 12,
   "id": "d50d81fe",
   "metadata": {},
   "outputs": [
    {
     "data": {
      "text/plain": [
       "{'messages': [HumanMessage(content='multiply 5 by 44', additional_kwargs={}, response_metadata={}, id='e3d6e5fd-056c-4d2a-9ac4-2f9569795938'),\n",
       "  AIMessage(content='', additional_kwargs={'tool_calls': [{'id': '579djq4sg', 'function': {'arguments': '{\"a\":5,\"b\":44}', 'name': 'mul'}, 'type': 'function'}]}, response_metadata={'token_usage': {'completion_tokens': 72, 'prompt_tokens': 2278, 'total_tokens': 2350, 'completion_time': 0.093307669, 'prompt_time': 0.254465809, 'queue_time': 0.16642298900000002, 'total_time': 0.347773478}, 'model_name': 'llama3-8b-8192', 'system_fingerprint': 'fp_8dc6ecaf8e', 'finish_reason': 'tool_calls', 'logprobs': None}, id='run--85f6ebec-fc2c-480c-8b38-4d139ee5b513-0', tool_calls=[{'name': 'mul', 'args': {'a': 5, 'b': 44}, 'id': '579djq4sg', 'type': 'tool_call'}], usage_metadata={'input_tokens': 2278, 'output_tokens': 72, 'total_tokens': 2350}),\n",
       "  ToolMessage(content='220', name='mul', id='1400447b-b75a-4705-95fa-f59186838d03', tool_call_id='579djq4sg')]}"
      ]
     },
     "execution_count": 12,
     "metadata": {},
     "output_type": "execute_result"
    }
   ],
   "source": [
    "res = gr.invoke({'messages': 'multiply 5 by 44'})\n",
    "res"
   ]
  },
  {
   "cell_type": "code",
   "execution_count": 13,
   "id": "f9f96dec",
   "metadata": {},
   "outputs": [
    {
     "name": "stdout",
     "output_type": "stream",
     "text": [
      "================================\u001b[1m Human Message \u001b[0m=================================\n",
      "\n",
      "multiply 5 by 44\n",
      "==================================\u001b[1m Ai Message \u001b[0m==================================\n",
      "Tool Calls:\n",
      "  mul (579djq4sg)\n",
      " Call ID: 579djq4sg\n",
      "  Args:\n",
      "    a: 5\n",
      "    b: 44\n",
      "=================================\u001b[1m Tool Message \u001b[0m=================================\n",
      "Name: mul\n",
      "\n",
      "220\n"
     ]
    }
   ],
   "source": [
    "for message in res['messages']:\n",
    "    message.pretty_print()"
   ]
  },
  {
   "cell_type": "markdown",
   "id": "9b01f027",
   "metadata": {},
   "source": [
    "# ReAct"
   ]
  },
  {
   "cell_type": "code",
   "execution_count": null,
   "id": "4e045390",
   "metadata": {},
   "outputs": [
    {
     "data": {
      "image/png": "[encoded data removed]",
      "text/plain": [
       "<IPython.core.display.Image object>"
      ]
     },
     "metadata": {},
     "output_type": "display_data"
    }
   ],
   "source": [
    "graph = StateGraph(State)\n",
    "\n",
    "graph.add_node(chat)\n",
    "graph.add_node(ToolNode(tools))\n",
    "\n",
    "graph.add_edge(START, 'chat')\n",
    "graph.add_conditional_edges('chat', tools_condition)\n",
    "graph.add_edge('tools', 'chat')\n",
    "\n",
    "gr = graph.compile()\n",
    "\n",
    "display(Image(gr.get_graph().draw_mermaid_png()))"
   ]
  },
  {
   "cell_type": "code",
   "execution_count": 18,
   "id": "b61d5dfb",
   "metadata": {},
   "outputs": [
    {
     "data": {
      "text/plain": [
       "{'messages': [HumanMessage(content='multibly 5 by 5, and tell me What is the capital of France?', additional_kwargs={}, response_metadata={}, id='a7a4e410-b16e-4e9c-9d8e-74c4cb5b5eec'),\n",
       "  AIMessage(content='', additional_kwargs={'tool_calls': [{'id': 'xkmdw8vzm', 'function': {'arguments': '{\"a\":5,\"b\":5}', 'name': 'mul'}, 'type': 'function'}]}, response_metadata={'token_usage': {'completion_tokens': 93, 'prompt_tokens': 2290, 'total_tokens': 2383, 'completion_time': 0.068530666, 'prompt_time': 0.251972827, 'queue_time': 0.170796022, 'total_time': 0.320503493}, 'model_name': 'llama3-8b-8192', 'system_fingerprint': 'fp_6d1c2b0784', 'finish_reason': 'tool_calls', 'logprobs': None}, id='run--91977a3c-3877-4125-be0d-c6c12ef268be-0', tool_calls=[{'name': 'mul', 'args': {'a': 5, 'b': 5}, 'id': 'xkmdw8vzm', 'type': 'tool_call'}], usage_metadata={'input_tokens': 2290, 'output_tokens': 93, 'total_tokens': 2383}),\n",
       "  ToolMessage(content='25', name='mul', id='37a03e78-7c1c-4bf9-b322-e7bd6038bb7d', tool_call_id='xkmdw8vzm'),\n",
       "  AIMessage(content='', additional_kwargs={'tool_calls': [{'id': 'n3hg81g07', 'function': {'arguments': '{\"query\":\"What is the capital of France?\",\"search_depth\":\"advanced\"}', 'name': 'tavily_search'}, 'type': 'function'}]}, response_metadata={'token_usage': {'completion_tokens': 46, 'prompt_tokens': 2363, 'total_tokens': 2409, 'completion_time': 0.033872837, 'prompt_time': 0.261942629, 'queue_time': 0.17122825600000002, 'total_time': 0.295815466}, 'model_name': 'llama3-8b-8192', 'system_fingerprint': 'fp_8b7c3a83f7', 'finish_reason': 'tool_calls', 'logprobs': None}, id='run--9b3b8bf5-23a5-4870-8387-b7ebd5db0baf-0', tool_calls=[{'name': 'tavily_search', 'args': {'query': 'What is the capital of France?', 'search_depth': 'advanced'}, 'id': 'n3hg81g07', 'type': 'tool_call'}], usage_metadata={'input_tokens': 2363, 'output_tokens': 46, 'total_tokens': 2409}),\n",
       "  ToolMessage(content='{\"query\": \"What is the capital of France?\", \"follow_up_questions\": null, \"answer\": null, \"images\": [], \"results\": [{\"url\": \"https://home.adelphi.edu/~ca19535/page%204.html\", \"title\": \"Paris facts: the capital of France in history\", \"content\": \"page 4\\\\n\\\\n===============\\\\n\\\\nHomeSpainSydneySan FranciscoParisLas VegasMaui\\\\n\\\\n Paris, France\\\\n\\\\nImage 1\\\\n\\\\nParis facts: Paris, the capital of France\\\\n---------------------------------------------\\\\n\\\\nParis is the capital of France, the largest country of Europe with 550 000 km2 (65 millions inhabitants).\\\\n\\\\nParis has 2.234 million inhabitants end 2011. She is the core of Ile de France region (12 million people). [...] Before Paris, the capital of France was Lyon (under the Romans). Paris first became the capital of France in 508 under King Clovis. After centuries with no unique capital of France, Paris retrieved its status of capital of France under King Philippe Auguste, who reigned between 1180 and 1223. You can see remains of the Philippe August Paris walls in the passageway between the Louvre parking and Louvre Museum [...] Paris remained the capital of France until today, with one four year interruption. During German occupation (WW2 , 1940-1944), the capital of France was Vichy.\\\\n\\\\ngo to top\\\\n\\\\nReference:\", \"score\": 0.89166987, \"raw_content\": null}, {\"url\": \"https://en.wikipedia.org/wiki/Paris\", \"title\": \"Paris - Wikipedia\", \"content\": \"As the capital of France, Paris is the seat of France\\'s national government. For the executive, the two chief officers each have their own official residences, which also serve as their offices. The President of the French Republic resides at the Élysée Palace.( The Prime Minister\\'s seat is at the Hôtel Matignon.( Government ministries are located in various parts of the city, many near the Hôtel Matignon.( [...] Appearance\\\\n\\\\nmove to sidebar hide\\\\n\\\\nCoordinates: 48°51′24″N 2°21′8″E / 48.85667°N 2.35222°E / 48.85667; 2.35222_region:FR-75C)\\\\n\\\\nImage 4: This is a good article. Click here for more information.\\\\n\\\\nImage 5: Page semi-protected\\\\n\\\\nFrom Wikipedia, the free encyclopedia\\\\n\\\\nCapital and largest city of France\\\\n\\\\nThis article is about the capital city of France. For other uses, see Paris (disambiguation) \\\\\"Paris (disambiguation)\\\\\"). [...] Paris (French pronunciation:( \\\\\"Help:IPA/French\\\\\")ⓘ) is the capital and largest city of France. With an estimated population of 2,048,472 residents in January 2025( in an area of more than 105 km 2 (41 sq mi),( Paris is the fourth-most populous city in the European Union and the 30th most densely populated city in the world in 2022.( Since the 17th century, Paris has been one of the world\\'s major centres of finance, diplomacy, commerce, culture, fashion, and gastronomy. Because of its leading\", \"score\": 0.8815438, \"raw_content\": null}], \"response_time\": 3.08}', name='tavily_search', id='ba251926-f63b-4b4b-8a88-669dccd15442', tool_call_id='n3hg81g07'),\n",
       "  AIMessage(content='Based on the result of the previous tool call, I can provide the answer to your question.\\n\\nThe capital of France is Paris.', additional_kwargs={}, response_metadata={'token_usage': {'completion_tokens': 27, 'prompt_tokens': 3159, 'total_tokens': 3186, 'completion_time': 0.043553248, 'prompt_time': 0.353888814, 'queue_time': 0.16695290199999996, 'total_time': 0.397442062}, 'model_name': 'llama3-8b-8192', 'system_fingerprint': 'fp_8dc6ecaf8e', 'finish_reason': 'stop', 'logprobs': None}, id='run--6e5687a6-6dde-4e99-9176-6c4d8cb4474f-0', usage_metadata={'input_tokens': 3159, 'output_tokens': 27, 'total_tokens': 3186})]}"
      ]
     },
     "execution_count": 18,
     "metadata": {},
     "output_type": "execute_result"
    }
   ],
   "source": [
    "res = gr.invoke({'messages': 'multibly 5 by 5, and tell me What is the capital of France?'})\n",
    "res"
   ]
  },
  {
   "cell_type": "code",
   "execution_count": 19,
   "id": "14e56b57",
   "metadata": {},
   "outputs": [
    {
     "name": "stdout",
     "output_type": "stream",
     "text": [
      "================================\u001b[1m Human Message \u001b[0m=================================\n",
      "\n",
      "multibly 5 by 5, and tell me What is the capital of France?\n",
      "==================================\u001b[1m Ai Message \u001b[0m==================================\n",
      "Tool Calls:\n",
      "  mul (xkmdw8vzm)\n",
      " Call ID: xkmdw8vzm\n",
      "  Args:\n",
      "    a: 5\n",
      "    b: 5\n",
      "=================================\u001b[1m Tool Message \u001b[0m=================================\n",
      "Name: mul\n",
      "\n",
      "25\n",
      "==================================\u001b[1m Ai Message \u001b[0m==================================\n",
      "Tool Calls:\n",
      "  tavily_search (n3hg81g07)\n",
      " Call ID: n3hg81g07\n",
      "  Args:\n",
      "    query: What is the capital of France?\n",
      "    search_depth: advanced\n",
      "=================================\u001b[1m Tool Message \u001b[0m=================================\n",
      "Name: tavily_search\n",
      "\n",
      "{\"query\": \"What is the capital of France?\", \"follow_up_questions\": null, \"answer\": null, \"images\": [], \"results\": [{\"url\": \"https://home.adelphi.edu/~ca19535/page%204.html\", \"title\": \"Paris facts: the capital of France in history\", \"content\": \"page 4\\n\\n===============\\n\\nHomeSpainSydneySan FranciscoParisLas VegasMaui\\n\\n Paris, France\\n\\nImage 1\\n\\nParis facts: Paris, the capital of France\\n---------------------------------------------\\n\\nParis is the capital of France, the largest country of Europe with 550 000 km2 (65 millions inhabitants).\\n\\nParis has 2.234 million inhabitants end 2011. She is the core of Ile de France region (12 million people). [...] Before Paris, the capital of France was Lyon (under the Romans). Paris first became the capital of France in 508 under King Clovis. After centuries with no unique capital of France, Paris retrieved its status of capital of France under King Philippe Auguste, who reigned between 1180 and 1223. You can see remains of the Philippe August Paris walls in the passageway between the Louvre parking and Louvre Museum [...] Paris remained the capital of France until today, with one four year interruption. During German occupation (WW2 , 1940-1944), the capital of France was Vichy.\\n\\ngo to top\\n\\nReference:\", \"score\": 0.89166987, \"raw_content\": null}, {\"url\": \"https://en.wikipedia.org/wiki/Paris\", \"title\": \"Paris - Wikipedia\", \"content\": \"As the capital of France, Paris is the seat of France's national government. For the executive, the two chief officers each have their own official residences, which also serve as their offices. The President of the French Republic resides at the Élysée Palace.( The Prime Minister's seat is at the Hôtel Matignon.( Government ministries are located in various parts of the city, many near the Hôtel Matignon.( [...] Appearance\\n\\nmove to sidebar hide\\n\\nCoordinates: 48°51′24″N 2°21′8″E / 48.85667°N 2.35222°E / 48.85667; 2.35222_region:FR-75C)\\n\\nImage 4: This is a good article. Click here for more information.\\n\\nImage 5: Page semi-protected\\n\\nFrom Wikipedia, the free encyclopedia\\n\\nCapital and largest city of France\\n\\nThis article is about the capital city of France. For other uses, see Paris (disambiguation) \\\"Paris (disambiguation)\\\"). [...] Paris (French pronunciation:( \\\"Help:IPA/French\\\")ⓘ) is the capital and largest city of France. With an estimated population of 2,048,472 residents in January 2025( in an area of more than 105 km 2 (41 sq mi),( Paris is the fourth-most populous city in the European Union and the 30th most densely populated city in the world in 2022.( Since the 17th century, Paris has been one of the world's major centres of finance, diplomacy, commerce, culture, fashion, and gastronomy. Because of its leading\", \"score\": 0.8815438, \"raw_content\": null}], \"response_time\": 3.08}\n",
      "==================================\u001b[1m Ai Message \u001b[0m==================================\n",
      "\n",
      "Based on the result of the previous tool call, I can provide the answer to your question.\n",
      "\n",
      "The capital of France is Paris.\n"
     ]
    }
   ],
   "source": [
    "for r in res['messages']:\n",
    "    r.pretty_print()"
   ]
  },
  {
   "cell_type": "markdown",
   "id": "037d5999",
   "metadata": {},
   "source": [
    "# Add Memory"
   ]
  },
  {
   "cell_type": "code",
   "execution_count": 23,
   "id": "0427faec",
   "metadata": {},
   "outputs": [],
   "source": [
    "from langgraph.checkpoint.memory import MemorySaver\n",
    "\n",
    "mem = MemorySaver()"
   ]
  },
  {
   "cell_type": "code",
   "execution_count": 20,
   "id": "8ebcb77e",
   "metadata": {},
   "outputs": [
    {
     "name": "stdout",
     "output_type": "stream",
     "text": [
      "================================\u001b[1m Human Message \u001b[0m=================================\n",
      "\n",
      "Hi, i'm ayad\n",
      "==================================\u001b[1m Ai Message \u001b[0m==================================\n",
      "\n",
      "Hi Ayad! It's nice to meet you. How can I assist you today?\n"
     ]
    }
   ],
   "source": [
    "res = gr.invoke({'messages': \"Hi, i'm ayad\"})\n",
    "for r in res['messages']:\n",
    "    r.pretty_print()"
   ]
  },
  {
   "cell_type": "code",
   "execution_count": 21,
   "id": "feea3c3c",
   "metadata": {},
   "outputs": [
    {
     "name": "stdout",
     "output_type": "stream",
     "text": [
      "================================\u001b[1m Human Message \u001b[0m=================================\n",
      "\n",
      "Hi, what is my name?\n",
      "==================================\u001b[1m Ai Message \u001b[0m==================================\n",
      "\n",
      "Unfortunately, I don't have any information about your name.\n"
     ]
    }
   ],
   "source": [
    "res = gr.invoke({'messages': \"Hi, what is my name?\"})\n",
    "for r in res['messages']:\n",
    "    r.pretty_print()"
   ]
  },
  {
   "cell_type": "code",
   "execution_count": 29,
   "id": "3e6568c4",
   "metadata": {},
   "outputs": [
    {
     "data": {
      "image/png": "[encoded data removed]",
      "text/plain": [
       "<IPython.core.display.Image object>"
      ]
     },
     "metadata": {},
     "output_type": "display_data"
    }
   ],
   "source": [
    "gr = graph.compile(checkpointer=mem)\n",
    "\n",
    "display(Image(gr.get_graph().draw_mermaid_png()))"
   ]
  },
  {
   "cell_type": "code",
   "execution_count": 31,
   "id": "cffc2a3b",
   "metadata": {},
   "outputs": [
    {
     "data": {
      "text/plain": [
       "{'messages': [HumanMessage(content=\"Hi, i'm ayad\", additional_kwargs={}, response_metadata={}, id='9a37ee58-e55e-4fe2-a5be-82b3ff9c7ed8'),\n",
       "  AIMessage(content=\"Hello Ayad! It's nice to meet you. Is there something I can help you with or would you like to chat?\", additional_kwargs={}, response_metadata={'token_usage': {'completion_tokens': 27, 'prompt_tokens': 2278, 'total_tokens': 2305, 'completion_time': 0.020331904, 'prompt_time': 0.264290714, 'queue_time': 0.195511051, 'total_time': 0.284622618}, 'model_name': 'llama3-8b-8192', 'system_fingerprint': 'fp_8b7c3a83f7', 'finish_reason': 'stop', 'logprobs': None}, id='run--35858aa1-0910-49fc-b983-0e441835d2a6-0', usage_metadata={'input_tokens': 2278, 'output_tokens': 27, 'total_tokens': 2305})]}"
      ]
     },
     "execution_count": 31,
     "metadata": {},
     "output_type": "execute_result"
    }
   ],
   "source": [
    "config = {'configurable' : {'thread_id' : 'ayad-010'}}\n",
    "\n",
    "res = gr.invoke({'messages': \"Hi, i'm ayad\"}, config=config)\n",
    "res"
   ]
  },
  {
   "cell_type": "code",
   "execution_count": 32,
   "id": "a12851a7",
   "metadata": {},
   "outputs": [
    {
     "name": "stdout",
     "output_type": "stream",
     "text": [
      "================================\u001b[1m Human Message \u001b[0m=================================\n",
      "\n",
      "Hi, i'm ayad\n",
      "==================================\u001b[1m Ai Message \u001b[0m==================================\n",
      "\n",
      "Hello Ayad! It's nice to meet you. Is there something I can help you with or would you like to chat?\n"
     ]
    }
   ],
   "source": [
    "for r in res['messages']:\n",
    "    r.pretty_print()"
   ]
  },
  {
   "cell_type": "code",
   "execution_count": 33,
   "id": "4953dc65",
   "metadata": {},
   "outputs": [
    {
     "data": {
      "text/plain": [
       "{'messages': [HumanMessage(content=\"Hi, i'm ayad\", additional_kwargs={}, response_metadata={}, id='9a37ee58-e55e-4fe2-a5be-82b3ff9c7ed8'),\n",
       "  AIMessage(content=\"Hello Ayad! It's nice to meet you. Is there something I can help you with or would you like to chat?\", additional_kwargs={}, response_metadata={'token_usage': {'completion_tokens': 27, 'prompt_tokens': 2278, 'total_tokens': 2305, 'completion_time': 0.020331904, 'prompt_time': 0.264290714, 'queue_time': 0.195511051, 'total_time': 0.284622618}, 'model_name': 'llama3-8b-8192', 'system_fingerprint': 'fp_8b7c3a83f7', 'finish_reason': 'stop', 'logprobs': None}, id='run--35858aa1-0910-49fc-b983-0e441835d2a6-0', usage_metadata={'input_tokens': 2278, 'output_tokens': 27, 'total_tokens': 2305}),\n",
       "  HumanMessage(content='what is my name?', additional_kwargs={}, response_metadata={}, id='657379df-43be-4239-98d3-0139e469894f'),\n",
       "  AIMessage(content='Your name is Ayad.', additional_kwargs={}, response_metadata={'token_usage': {'completion_tokens': 7, 'prompt_tokens': 2319, 'total_tokens': 2326, 'completion_time': 0.006322621, 'prompt_time': 0.326566283, 'queue_time': 0.203177143, 'total_time': 0.332888904}, 'model_name': 'llama3-8b-8192', 'system_fingerprint': 'fp_6d1c2b0784', 'finish_reason': 'stop', 'logprobs': None}, id='run--0b6800d2-94b3-4a24-87c0-34dd37149752-0', usage_metadata={'input_tokens': 2319, 'output_tokens': 7, 'total_tokens': 2326})]}"
      ]
     },
     "execution_count": 33,
     "metadata": {},
     "output_type": "execute_result"
    }
   ],
   "source": [
    "res = gr.invoke({'messages': \"what is my name?\"}, config=config)\n",
    "res"
   ]
  },
  {
   "cell_type": "code",
   "execution_count": 34,
   "id": "670ff5f7",
   "metadata": {},
   "outputs": [
    {
     "name": "stdout",
     "output_type": "stream",
     "text": [
      "================================\u001b[1m Human Message \u001b[0m=================================\n",
      "\n",
      "Hi, i'm ayad\n",
      "==================================\u001b[1m Ai Message \u001b[0m==================================\n",
      "\n",
      "Hello Ayad! It's nice to meet you. Is there something I can help you with or would you like to chat?\n",
      "================================\u001b[1m Human Message \u001b[0m=================================\n",
      "\n",
      "what is my name?\n",
      "==================================\u001b[1m Ai Message \u001b[0m==================================\n",
      "\n",
      "Your name is Ayad.\n"
     ]
    }
   ],
   "source": [
    "for r in res['messages']:\n",
    "    r.pretty_print()"
   ]
  },
  {
   "cell_type": "markdown",
   "id": "5e502290",
   "metadata": {},
   "source": [
    "# Streaming"
   ]
  },
  {
   "cell_type": "code",
   "execution_count": 35,
   "id": "c383c736",
   "metadata": {},
   "outputs": [],
   "source": [
    "def chat(state: State):\n",
    "    return {'messages': [llm.invoke(state['messages'])]}"
   ]
  },
  {
   "cell_type": "code",
   "execution_count": 37,
   "id": "44e99c73",
   "metadata": {},
   "outputs": [
    {
     "data": {
      "image/png": "[encoded data removed]",
      "text/plain": [
       "<IPython.core.display.Image object>"
      ]
     },
     "metadata": {},
     "output_type": "display_data"
    }
   ],
   "source": [
    "graph = StateGraph(State)\n",
    "\n",
    "graph.add_node(chat)\n",
    "\n",
    "graph.add_edge(START, 'chat')\n",
    "\n",
    "gr = graph.compile(checkpointer=mem)\n",
    "\n",
    "display(Image(gr.get_graph().draw_mermaid_png()))"
   ]
  },
  {
   "cell_type": "code",
   "execution_count": 39,
   "id": "3302ef22",
   "metadata": {},
   "outputs": [
    {
     "name": "stdout",
     "output_type": "stream",
     "text": [
      "{'chat': {'messages': [AIMessage(content=\"Marhaba Ayad! It's nice to meet you. Welcome to our conversation! Egypt is a beautiful country with a rich history and culture. What brings you here today? Do you have a specific topic you'd like to talk about or ask about? I'm here to listen and help if I can.\", additional_kwargs={}, response_metadata={'token_usage': {'completion_tokens': 64, 'prompt_tokens': 24, 'total_tokens': 88, 'completion_time': 0.053255525, 'prompt_time': 0.003315835, 'queue_time': 0.168679453, 'total_time': 0.05657136}, 'model_name': 'llama3-8b-8192', 'system_fingerprint': 'fp_8b7c3a83f7', 'finish_reason': 'stop', 'logprobs': None}, id='run--938322d2-7f89-4bb5-b8e6-7b1ffdd846c3-0', usage_metadata={'input_tokens': 24, 'output_tokens': 64, 'total_tokens': 88})]}}\n"
     ]
    }
   ],
   "source": [
    "config = {'configurable' : {'thread_id' : 'ayad-01012'}}\n",
    "for chunk in gr.stream({'messages': \"hi, mynmae is ayad and i'm from egypt\"}, config=config, stream_mode='updates'):\n",
    "    print(chunk)"
   ]
  },
  {
   "cell_type": "code",
   "execution_count": null,
   "id": "32a2ed87",
   "metadata": {},
   "outputs": [
    {
     "name": "stdout",
     "output_type": "stream",
     "text": [
      "{'messages': [HumanMessage(content=\"hi, mynmae is ayad and i'm from egypt\", additional_kwargs={}, response_metadata={}, id='a8284bcc-7767-4344-8895-bff1af2e0fef')]}\n",
      "{'messages': [HumanMessage(content=\"hi, mynmae is ayad and i'm from egypt\", additional_kwargs={}, response_metadata={}, id='a8284bcc-7767-4344-8895-bff1af2e0fef'), AIMessage(content=\"Hello Ayad! It's nice to meet you! I'm excited to learn more about you and your culture. Egypt has a rich and fascinating history, and I'm sure you must have some amazing stories and experiences to share.\\n\\nWhat brings you here today? Are you interested in learning more about a specific topic, or do you just want to chat and get to know me better?\", additional_kwargs={}, response_metadata={'token_usage': {'completion_tokens': 78, 'prompt_tokens': 24, 'total_tokens': 102, 'completion_time': 0.072747341, 'prompt_time': 0.005402759, 'queue_time': 0.16920828899999998, 'total_time': 0.0781501}, 'model_name': 'llama3-8b-8192', 'system_fingerprint': 'fp_6d1c2b0784', 'finish_reason': 'stop', 'logprobs': None}, id='run--eee32b05-90f7-46f9-af3f-0b1e3f703810-0', usage_metadata={'input_tokens': 24, 'output_tokens': 78, 'total_tokens': 102})]}\n"
     ]
    }
   ],
   "source": [
    "config = {'configurable' : {'thread_id' : 'ayad-0101248'}}\n",
    "for chunk in gr.stream({'messages': \"hi, my name is ayad and i'm from egypt\"}, config=config, stream_mode='values'):\n",
    "    print(chunk)"
   ]
  },
  {
   "cell_type": "code",
   "execution_count": 42,
   "id": "5e8e5226",
   "metadata": {},
   "outputs": [
    {
     "name": "stdout",
     "output_type": "stream",
     "text": [
      "{'event': 'on_chain_start', 'data': {'input': {'messages': \"hi, my name is ayad and i'm from egypt\"}}, 'name': 'LangGraph', 'tags': [], 'run_id': 'd8475012-22fe-4b06-8535-220b6e476378', 'metadata': {'thread_id': 'ayad-01012489'}, 'parent_ids': []}\n",
      "{'event': 'on_chain_stream', 'run_id': 'd8475012-22fe-4b06-8535-220b6e476378', 'name': 'LangGraph', 'tags': [], 'metadata': {'thread_id': 'ayad-01012489'}, 'data': {'chunk': {'messages': [HumanMessage(content=\"hi, my name is ayad and i'm from egypt\", additional_kwargs={}, response_metadata={}, id='81f60c94-c3e5-433d-969a-a266fcf5339d'), AIMessage(content=\"Hello Ayad! Nice to meet you! Egypt is a fascinating country with a rich history and culture. What brings you here today? Are you interested in learning something new, or do you have a specific question or topic you'd like to discuss? I'm here to help and happy to chat with you!\", additional_kwargs={}, response_metadata={'token_usage': {'completion_tokens': 63, 'prompt_tokens': 23, 'total_tokens': 86, 'completion_time': 0.05855761, 'prompt_time': 0.005692203, 'queue_time': 0.167894353, 'total_time': 0.064249813}, 'model_name': 'llama3-8b-8192', 'system_fingerprint': 'fp_6d1c2b0784', 'finish_reason': 'stop', 'logprobs': None}, id='run--e7c69518-0092-4900-a3ac-ee0174f6fdc2-0', usage_metadata={'input_tokens': 23, 'output_tokens': 63, 'total_tokens': 86}), HumanMessage(content=\"hi, my name is ayad and i'm from egypt\", additional_kwargs={}, response_metadata={}, id='808f7348-d3bf-44f2-b9f3-f8fbeeb3f064')]}}, 'parent_ids': []}\n",
      "{'event': 'on_chain_start', 'data': {'input': {'messages': [HumanMessage(content=\"hi, my name is ayad and i'm from egypt\", additional_kwargs={}, response_metadata={}, id='81f60c94-c3e5-433d-969a-a266fcf5339d'), AIMessage(content=\"Hello Ayad! Nice to meet you! Egypt is a fascinating country with a rich history and culture. What brings you here today? Are you interested in learning something new, or do you have a specific question or topic you'd like to discuss? I'm here to help and happy to chat with you!\", additional_kwargs={}, response_metadata={'token_usage': {'completion_tokens': 63, 'prompt_tokens': 23, 'total_tokens': 86, 'completion_time': 0.05855761, 'prompt_time': 0.005692203, 'queue_time': 0.167894353, 'total_time': 0.064249813}, 'model_name': 'llama3-8b-8192', 'system_fingerprint': 'fp_6d1c2b0784', 'finish_reason': 'stop', 'logprobs': None}, id='run--e7c69518-0092-4900-a3ac-ee0174f6fdc2-0', usage_metadata={'input_tokens': 23, 'output_tokens': 63, 'total_tokens': 86}), HumanMessage(content=\"hi, my name is ayad and i'm from egypt\", additional_kwargs={}, response_metadata={}, id='808f7348-d3bf-44f2-b9f3-f8fbeeb3f064')]}}, 'name': 'chat', 'tags': ['graph:step:4'], 'run_id': '3fd2f1ee-dd26-4788-a00f-eb4a767bb0e9', 'metadata': {'thread_id': 'ayad-01012489', 'langgraph_step': 4, 'langgraph_node': 'chat', 'langgraph_triggers': ('branch:to:chat',), 'langgraph_path': ('__pregel_pull', 'chat'), 'langgraph_checkpoint_ns': 'chat:682b4ba4-6a07-8e05-6f16-62a99c361b55'}, 'parent_ids': ['d8475012-22fe-4b06-8535-220b6e476378']}\n",
      "{'event': 'on_chat_model_start', 'data': {'input': {'messages': [[HumanMessage(content=\"hi, my name is ayad and i'm from egypt\", additional_kwargs={}, response_metadata={}, id='81f60c94-c3e5-433d-969a-a266fcf5339d'), AIMessage(content=\"Hello Ayad! Nice to meet you! Egypt is a fascinating country with a rich history and culture. What brings you here today? Are you interested in learning something new, or do you have a specific question or topic you'd like to discuss? I'm here to help and happy to chat with you!\", additional_kwargs={}, response_metadata={'token_usage': {'completion_tokens': 63, 'prompt_tokens': 23, 'total_tokens': 86, 'completion_time': 0.05855761, 'prompt_time': 0.005692203, 'queue_time': 0.167894353, 'total_time': 0.064249813}, 'model_name': 'llama3-8b-8192', 'system_fingerprint': 'fp_6d1c2b0784', 'finish_reason': 'stop', 'logprobs': None}, id='run--e7c69518-0092-4900-a3ac-ee0174f6fdc2-0', usage_metadata={'input_tokens': 23, 'output_tokens': 63, 'total_tokens': 86}), HumanMessage(content=\"hi, my name is ayad and i'm from egypt\", additional_kwargs={}, response_metadata={}, id='808f7348-d3bf-44f2-b9f3-f8fbeeb3f064')]]}}, 'name': 'ChatGroq', 'tags': ['seq:step:1'], 'run_id': 'af85163f-b994-4b33-ab36-dda0c3a2d331', 'metadata': {'thread_id': 'ayad-01012489', 'langgraph_step': 4, 'langgraph_node': 'chat', 'langgraph_triggers': ('branch:to:chat',), 'langgraph_path': ('__pregel_pull', 'chat'), 'langgraph_checkpoint_ns': 'chat:682b4ba4-6a07-8e05-6f16-62a99c361b55', 'checkpoint_ns': 'chat:682b4ba4-6a07-8e05-6f16-62a99c361b55', 'ls_provider': 'groq', 'ls_model_name': 'llama3-8b-8192', 'ls_model_type': 'chat', 'ls_temperature': 0.7}, 'parent_ids': ['d8475012-22fe-4b06-8535-220b6e476378', '3fd2f1ee-dd26-4788-a00f-eb4a767bb0e9']}\n",
      "{'event': 'on_chat_model_stream', 'data': {'chunk': AIMessageChunk(content='', additional_kwargs={}, response_metadata={}, id='run--af85163f-b994-4b33-ab36-dda0c3a2d331')}, 'run_id': 'af85163f-b994-4b33-ab36-dda0c3a2d331', 'name': 'ChatGroq', 'tags': ['seq:step:1'], 'metadata': {'thread_id': 'ayad-01012489', 'langgraph_step': 4, 'langgraph_node': 'chat', 'langgraph_triggers': ('branch:to:chat',), 'langgraph_path': ('__pregel_pull', 'chat'), 'langgraph_checkpoint_ns': 'chat:682b4ba4-6a07-8e05-6f16-62a99c361b55', 'checkpoint_ns': 'chat:682b4ba4-6a07-8e05-6f16-62a99c361b55', 'ls_provider': 'groq', 'ls_model_name': 'llama3-8b-8192', 'ls_model_type': 'chat', 'ls_temperature': 0.7}, 'parent_ids': ['d8475012-22fe-4b06-8535-220b6e476378', '3fd2f1ee-dd26-4788-a00f-eb4a767bb0e9']}\n",
      "{'event': 'on_chat_model_stream', 'data': {'chunk': AIMessageChunk(content='Hello', additional_kwargs={}, response_metadata={}, id='run--af85163f-b994-4b33-ab36-dda0c3a2d331')}, 'run_id': 'af85163f-b994-4b33-ab36-dda0c3a2d331', 'name': 'ChatGroq', 'tags': ['seq:step:1'], 'metadata': {'thread_id': 'ayad-01012489', 'langgraph_step': 4, 'langgraph_node': 'chat', 'langgraph_triggers': ('branch:to:chat',), 'langgraph_path': ('__pregel_pull', 'chat'), 'langgraph_checkpoint_ns': 'chat:682b4ba4-6a07-8e05-6f16-62a99c361b55', 'checkpoint_ns': 'chat:682b4ba4-6a07-8e05-6f16-62a99c361b55', 'ls_provider': 'groq', 'ls_model_name': 'llama3-8b-8192', 'ls_model_type': 'chat', 'ls_temperature': 0.7}, 'parent_ids': ['d8475012-22fe-4b06-8535-220b6e476378', '3fd2f1ee-dd26-4788-a00f-eb4a767bb0e9']}\n",
      "{'event': 'on_chat_model_stream', 'data': {'chunk': AIMessageChunk(content=' again', additional_kwargs={}, response_metadata={}, id='run--af85163f-b994-4b33-ab36-dda0c3a2d331')}, 'run_id': 'af85163f-b994-4b33-ab36-dda0c3a2d331', 'name': 'ChatGroq', 'tags': ['seq:step:1'], 'metadata': {'thread_id': 'ayad-01012489', 'langgraph_step': 4, 'langgraph_node': 'chat', 'langgraph_triggers': ('branch:to:chat',), 'langgraph_path': ('__pregel_pull', 'chat'), 'langgraph_checkpoint_ns': 'chat:682b4ba4-6a07-8e05-6f16-62a99c361b55', 'checkpoint_ns': 'chat:682b4ba4-6a07-8e05-6f16-62a99c361b55', 'ls_provider': 'groq', 'ls_model_name': 'llama3-8b-8192', 'ls_model_type': 'chat', 'ls_temperature': 0.7}, 'parent_ids': ['d8475012-22fe-4b06-8535-220b6e476378', '3fd2f1ee-dd26-4788-a00f-eb4a767bb0e9']}\n",
      "{'event': 'on_chat_model_stream', 'data': {'chunk': AIMessageChunk(content=' Ay', additional_kwargs={}, response_metadata={}, id='run--af85163f-b994-4b33-ab36-dda0c3a2d331')}, 'run_id': 'af85163f-b994-4b33-ab36-dda0c3a2d331', 'name': 'ChatGroq', 'tags': ['seq:step:1'], 'metadata': {'thread_id': 'ayad-01012489', 'langgraph_step': 4, 'langgraph_node': 'chat', 'langgraph_triggers': ('branch:to:chat',), 'langgraph_path': ('__pregel_pull', 'chat'), 'langgraph_checkpoint_ns': 'chat:682b4ba4-6a07-8e05-6f16-62a99c361b55', 'checkpoint_ns': 'chat:682b4ba4-6a07-8e05-6f16-62a99c361b55', 'ls_provider': 'groq', 'ls_model_name': 'llama3-8b-8192', 'ls_model_type': 'chat', 'ls_temperature': 0.7}, 'parent_ids': ['d8475012-22fe-4b06-8535-220b6e476378', '3fd2f1ee-dd26-4788-a00f-eb4a767bb0e9']}\n",
      "{'event': 'on_chat_model_stream', 'data': {'chunk': AIMessageChunk(content='ad', additional_kwargs={}, response_metadata={}, id='run--af85163f-b994-4b33-ab36-dda0c3a2d331')}, 'run_id': 'af85163f-b994-4b33-ab36-dda0c3a2d331', 'name': 'ChatGroq', 'tags': ['seq:step:1'], 'metadata': {'thread_id': 'ayad-01012489', 'langgraph_step': 4, 'langgraph_node': 'chat', 'langgraph_triggers': ('branch:to:chat',), 'langgraph_path': ('__pregel_pull', 'chat'), 'langgraph_checkpoint_ns': 'chat:682b4ba4-6a07-8e05-6f16-62a99c361b55', 'checkpoint_ns': 'chat:682b4ba4-6a07-8e05-6f16-62a99c361b55', 'ls_provider': 'groq', 'ls_model_name': 'llama3-8b-8192', 'ls_model_type': 'chat', 'ls_temperature': 0.7}, 'parent_ids': ['d8475012-22fe-4b06-8535-220b6e476378', '3fd2f1ee-dd26-4788-a00f-eb4a767bb0e9']}\n",
      "{'event': 'on_chat_model_stream', 'data': {'chunk': AIMessageChunk(content='!', additional_kwargs={}, response_metadata={}, id='run--af85163f-b994-4b33-ab36-dda0c3a2d331')}, 'run_id': 'af85163f-b994-4b33-ab36-dda0c3a2d331', 'name': 'ChatGroq', 'tags': ['seq:step:1'], 'metadata': {'thread_id': 'ayad-01012489', 'langgraph_step': 4, 'langgraph_node': 'chat', 'langgraph_triggers': ('branch:to:chat',), 'langgraph_path': ('__pregel_pull', 'chat'), 'langgraph_checkpoint_ns': 'chat:682b4ba4-6a07-8e05-6f16-62a99c361b55', 'checkpoint_ns': 'chat:682b4ba4-6a07-8e05-6f16-62a99c361b55', 'ls_provider': 'groq', 'ls_model_name': 'llama3-8b-8192', 'ls_model_type': 'chat', 'ls_temperature': 0.7}, 'parent_ids': ['d8475012-22fe-4b06-8535-220b6e476378', '3fd2f1ee-dd26-4788-a00f-eb4a767bb0e9']}\n",
      "{'event': 'on_chat_model_stream', 'data': {'chunk': AIMessageChunk(content=' Welcome', additional_kwargs={}, response_metadata={}, id='run--af85163f-b994-4b33-ab36-dda0c3a2d331')}, 'run_id': 'af85163f-b994-4b33-ab36-dda0c3a2d331', 'name': 'ChatGroq', 'tags': ['seq:step:1'], 'metadata': {'thread_id': 'ayad-01012489', 'langgraph_step': 4, 'langgraph_node': 'chat', 'langgraph_triggers': ('branch:to:chat',), 'langgraph_path': ('__pregel_pull', 'chat'), 'langgraph_checkpoint_ns': 'chat:682b4ba4-6a07-8e05-6f16-62a99c361b55', 'checkpoint_ns': 'chat:682b4ba4-6a07-8e05-6f16-62a99c361b55', 'ls_provider': 'groq', 'ls_model_name': 'llama3-8b-8192', 'ls_model_type': 'chat', 'ls_temperature': 0.7}, 'parent_ids': ['d8475012-22fe-4b06-8535-220b6e476378', '3fd2f1ee-dd26-4788-a00f-eb4a767bb0e9']}\n",
      "{'event': 'on_chat_model_stream', 'data': {'chunk': AIMessageChunk(content=' back', additional_kwargs={}, response_metadata={}, id='run--af85163f-b994-4b33-ab36-dda0c3a2d331')}, 'run_id': 'af85163f-b994-4b33-ab36-dda0c3a2d331', 'name': 'ChatGroq', 'tags': ['seq:step:1'], 'metadata': {'thread_id': 'ayad-01012489', 'langgraph_step': 4, 'langgraph_node': 'chat', 'langgraph_triggers': ('branch:to:chat',), 'langgraph_path': ('__pregel_pull', 'chat'), 'langgraph_checkpoint_ns': 'chat:682b4ba4-6a07-8e05-6f16-62a99c361b55', 'checkpoint_ns': 'chat:682b4ba4-6a07-8e05-6f16-62a99c361b55', 'ls_provider': 'groq', 'ls_model_name': 'llama3-8b-8192', 'ls_model_type': 'chat', 'ls_temperature': 0.7}, 'parent_ids': ['d8475012-22fe-4b06-8535-220b6e476378', '3fd2f1ee-dd26-4788-a00f-eb4a767bb0e9']}\n",
      "{'event': 'on_chat_model_stream', 'data': {'chunk': AIMessageChunk(content='!', additional_kwargs={}, response_metadata={}, id='run--af85163f-b994-4b33-ab36-dda0c3a2d331')}, 'run_id': 'af85163f-b994-4b33-ab36-dda0c3a2d331', 'name': 'ChatGroq', 'tags': ['seq:step:1'], 'metadata': {'thread_id': 'ayad-01012489', 'langgraph_step': 4, 'langgraph_node': 'chat', 'langgraph_triggers': ('branch:to:chat',), 'langgraph_path': ('__pregel_pull', 'chat'), 'langgraph_checkpoint_ns': 'chat:682b4ba4-6a07-8e05-6f16-62a99c361b55', 'checkpoint_ns': 'chat:682b4ba4-6a07-8e05-6f16-62a99c361b55', 'ls_provider': 'groq', 'ls_model_name': 'llama3-8b-8192', 'ls_model_type': 'chat', 'ls_temperature': 0.7}, 'parent_ids': ['d8475012-22fe-4b06-8535-220b6e476378', '3fd2f1ee-dd26-4788-a00f-eb4a767bb0e9']}\n",
      "{'event': 'on_chat_model_stream', 'data': {'chunk': AIMessageChunk(content=' How', additional_kwargs={}, response_metadata={}, id='run--af85163f-b994-4b33-ab36-dda0c3a2d331')}, 'run_id': 'af85163f-b994-4b33-ab36-dda0c3a2d331', 'name': 'ChatGroq', 'tags': ['seq:step:1'], 'metadata': {'thread_id': 'ayad-01012489', 'langgraph_step': 4, 'langgraph_node': 'chat', 'langgraph_triggers': ('branch:to:chat',), 'langgraph_path': ('__pregel_pull', 'chat'), 'langgraph_checkpoint_ns': 'chat:682b4ba4-6a07-8e05-6f16-62a99c361b55', 'checkpoint_ns': 'chat:682b4ba4-6a07-8e05-6f16-62a99c361b55', 'ls_provider': 'groq', 'ls_model_name': 'llama3-8b-8192', 'ls_model_type': 'chat', 'ls_temperature': 0.7}, 'parent_ids': ['d8475012-22fe-4b06-8535-220b6e476378', '3fd2f1ee-dd26-4788-a00f-eb4a767bb0e9']}\n",
      "{'event': 'on_chat_model_stream', 'data': {'chunk': AIMessageChunk(content=' was', additional_kwargs={}, response_metadata={}, id='run--af85163f-b994-4b33-ab36-dda0c3a2d331')}, 'run_id': 'af85163f-b994-4b33-ab36-dda0c3a2d331', 'name': 'ChatGroq', 'tags': ['seq:step:1'], 'metadata': {'thread_id': 'ayad-01012489', 'langgraph_step': 4, 'langgraph_node': 'chat', 'langgraph_triggers': ('branch:to:chat',), 'langgraph_path': ('__pregel_pull', 'chat'), 'langgraph_checkpoint_ns': 'chat:682b4ba4-6a07-8e05-6f16-62a99c361b55', 'checkpoint_ns': 'chat:682b4ba4-6a07-8e05-6f16-62a99c361b55', 'ls_provider': 'groq', 'ls_model_name': 'llama3-8b-8192', 'ls_model_type': 'chat', 'ls_temperature': 0.7}, 'parent_ids': ['d8475012-22fe-4b06-8535-220b6e476378', '3fd2f1ee-dd26-4788-a00f-eb4a767bb0e9']}\n",
      "{'event': 'on_chat_model_stream', 'data': {'chunk': AIMessageChunk(content=' your', additional_kwargs={}, response_metadata={}, id='run--af85163f-b994-4b33-ab36-dda0c3a2d331')}, 'run_id': 'af85163f-b994-4b33-ab36-dda0c3a2d331', 'name': 'ChatGroq', 'tags': ['seq:step:1'], 'metadata': {'thread_id': 'ayad-01012489', 'langgraph_step': 4, 'langgraph_node': 'chat', 'langgraph_triggers': ('branch:to:chat',), 'langgraph_path': ('__pregel_pull', 'chat'), 'langgraph_checkpoint_ns': 'chat:682b4ba4-6a07-8e05-6f16-62a99c361b55', 'checkpoint_ns': 'chat:682b4ba4-6a07-8e05-6f16-62a99c361b55', 'ls_provider': 'groq', 'ls_model_name': 'llama3-8b-8192', 'ls_model_type': 'chat', 'ls_temperature': 0.7}, 'parent_ids': ['d8475012-22fe-4b06-8535-220b6e476378', '3fd2f1ee-dd26-4788-a00f-eb4a767bb0e9']}\n",
      "{'event': 'on_chat_model_stream', 'data': {'chunk': AIMessageChunk(content=' day', additional_kwargs={}, response_metadata={}, id='run--af85163f-b994-4b33-ab36-dda0c3a2d331')}, 'run_id': 'af85163f-b994-4b33-ab36-dda0c3a2d331', 'name': 'ChatGroq', 'tags': ['seq:step:1'], 'metadata': {'thread_id': 'ayad-01012489', 'langgraph_step': 4, 'langgraph_node': 'chat', 'langgraph_triggers': ('branch:to:chat',), 'langgraph_path': ('__pregel_pull', 'chat'), 'langgraph_checkpoint_ns': 'chat:682b4ba4-6a07-8e05-6f16-62a99c361b55', 'checkpoint_ns': 'chat:682b4ba4-6a07-8e05-6f16-62a99c361b55', 'ls_provider': 'groq', 'ls_model_name': 'llama3-8b-8192', 'ls_model_type': 'chat', 'ls_temperature': 0.7}, 'parent_ids': ['d8475012-22fe-4b06-8535-220b6e476378', '3fd2f1ee-dd26-4788-a00f-eb4a767bb0e9']}\n",
      "{'event': 'on_chat_model_stream', 'data': {'chunk': AIMessageChunk(content=' in', additional_kwargs={}, response_metadata={}, id='run--af85163f-b994-4b33-ab36-dda0c3a2d331')}, 'run_id': 'af85163f-b994-4b33-ab36-dda0c3a2d331', 'name': 'ChatGroq', 'tags': ['seq:step:1'], 'metadata': {'thread_id': 'ayad-01012489', 'langgraph_step': 4, 'langgraph_node': 'chat', 'langgraph_triggers': ('branch:to:chat',), 'langgraph_path': ('__pregel_pull', 'chat'), 'langgraph_checkpoint_ns': 'chat:682b4ba4-6a07-8e05-6f16-62a99c361b55', 'checkpoint_ns': 'chat:682b4ba4-6a07-8e05-6f16-62a99c361b55', 'ls_provider': 'groq', 'ls_model_name': 'llama3-8b-8192', 'ls_model_type': 'chat', 'ls_temperature': 0.7}, 'parent_ids': ['d8475012-22fe-4b06-8535-220b6e476378', '3fd2f1ee-dd26-4788-a00f-eb4a767bb0e9']}\n",
      "{'event': 'on_chat_model_stream', 'data': {'chunk': AIMessageChunk(content=' Egypt', additional_kwargs={}, response_metadata={}, id='run--af85163f-b994-4b33-ab36-dda0c3a2d331')}, 'run_id': 'af85163f-b994-4b33-ab36-dda0c3a2d331', 'name': 'ChatGroq', 'tags': ['seq:step:1'], 'metadata': {'thread_id': 'ayad-01012489', 'langgraph_step': 4, 'langgraph_node': 'chat', 'langgraph_triggers': ('branch:to:chat',), 'langgraph_path': ('__pregel_pull', 'chat'), 'langgraph_checkpoint_ns': 'chat:682b4ba4-6a07-8e05-6f16-62a99c361b55', 'checkpoint_ns': 'chat:682b4ba4-6a07-8e05-6f16-62a99c361b55', 'ls_provider': 'groq', 'ls_model_name': 'llama3-8b-8192', 'ls_model_type': 'chat', 'ls_temperature': 0.7}, 'parent_ids': ['d8475012-22fe-4b06-8535-220b6e476378', '3fd2f1ee-dd26-4788-a00f-eb4a767bb0e9']}\n",
      "{'event': 'on_chat_model_stream', 'data': {'chunk': AIMessageChunk(content='?', additional_kwargs={}, response_metadata={}, id='run--af85163f-b994-4b33-ab36-dda0c3a2d331')}, 'run_id': 'af85163f-b994-4b33-ab36-dda0c3a2d331', 'name': 'ChatGroq', 'tags': ['seq:step:1'], 'metadata': {'thread_id': 'ayad-01012489', 'langgraph_step': 4, 'langgraph_node': 'chat', 'langgraph_triggers': ('branch:to:chat',), 'langgraph_path': ('__pregel_pull', 'chat'), 'langgraph_checkpoint_ns': 'chat:682b4ba4-6a07-8e05-6f16-62a99c361b55', 'checkpoint_ns': 'chat:682b4ba4-6a07-8e05-6f16-62a99c361b55', 'ls_provider': 'groq', 'ls_model_name': 'llama3-8b-8192', 'ls_model_type': 'chat', 'ls_temperature': 0.7}, 'parent_ids': ['d8475012-22fe-4b06-8535-220b6e476378', '3fd2f1ee-dd26-4788-a00f-eb4a767bb0e9']}\n",
      "{'event': 'on_chat_model_stream', 'data': {'chunk': AIMessageChunk(content=' Did', additional_kwargs={}, response_metadata={}, id='run--af85163f-b994-4b33-ab36-dda0c3a2d331')}, 'run_id': 'af85163f-b994-4b33-ab36-dda0c3a2d331', 'name': 'ChatGroq', 'tags': ['seq:step:1'], 'metadata': {'thread_id': 'ayad-01012489', 'langgraph_step': 4, 'langgraph_node': 'chat', 'langgraph_triggers': ('branch:to:chat',), 'langgraph_path': ('__pregel_pull', 'chat'), 'langgraph_checkpoint_ns': 'chat:682b4ba4-6a07-8e05-6f16-62a99c361b55', 'checkpoint_ns': 'chat:682b4ba4-6a07-8e05-6f16-62a99c361b55', 'ls_provider': 'groq', 'ls_model_name': 'llama3-8b-8192', 'ls_model_type': 'chat', 'ls_temperature': 0.7}, 'parent_ids': ['d8475012-22fe-4b06-8535-220b6e476378', '3fd2f1ee-dd26-4788-a00f-eb4a767bb0e9']}\n",
      "{'event': 'on_chat_model_stream', 'data': {'chunk': AIMessageChunk(content=' you', additional_kwargs={}, response_metadata={}, id='run--af85163f-b994-4b33-ab36-dda0c3a2d331')}, 'run_id': 'af85163f-b994-4b33-ab36-dda0c3a2d331', 'name': 'ChatGroq', 'tags': ['seq:step:1'], 'metadata': {'thread_id': 'ayad-01012489', 'langgraph_step': 4, 'langgraph_node': 'chat', 'langgraph_triggers': ('branch:to:chat',), 'langgraph_path': ('__pregel_pull', 'chat'), 'langgraph_checkpoint_ns': 'chat:682b4ba4-6a07-8e05-6f16-62a99c361b55', 'checkpoint_ns': 'chat:682b4ba4-6a07-8e05-6f16-62a99c361b55', 'ls_provider': 'groq', 'ls_model_name': 'llama3-8b-8192', 'ls_model_type': 'chat', 'ls_temperature': 0.7}, 'parent_ids': ['d8475012-22fe-4b06-8535-220b6e476378', '3fd2f1ee-dd26-4788-a00f-eb4a767bb0e9']}\n",
      "{'event': 'on_chat_model_stream', 'data': {'chunk': AIMessageChunk(content=' have', additional_kwargs={}, response_metadata={}, id='run--af85163f-b994-4b33-ab36-dda0c3a2d331')}, 'run_id': 'af85163f-b994-4b33-ab36-dda0c3a2d331', 'name': 'ChatGroq', 'tags': ['seq:step:1'], 'metadata': {'thread_id': 'ayad-01012489', 'langgraph_step': 4, 'langgraph_node': 'chat', 'langgraph_triggers': ('branch:to:chat',), 'langgraph_path': ('__pregel_pull', 'chat'), 'langgraph_checkpoint_ns': 'chat:682b4ba4-6a07-8e05-6f16-62a99c361b55', 'checkpoint_ns': 'chat:682b4ba4-6a07-8e05-6f16-62a99c361b55', 'ls_provider': 'groq', 'ls_model_name': 'llama3-8b-8192', 'ls_model_type': 'chat', 'ls_temperature': 0.7}, 'parent_ids': ['d8475012-22fe-4b06-8535-220b6e476378', '3fd2f1ee-dd26-4788-a00f-eb4a767bb0e9']}\n",
      "{'event': 'on_chat_model_stream', 'data': {'chunk': AIMessageChunk(content=' a', additional_kwargs={}, response_metadata={}, id='run--af85163f-b994-4b33-ab36-dda0c3a2d331')}, 'run_id': 'af85163f-b994-4b33-ab36-dda0c3a2d331', 'name': 'ChatGroq', 'tags': ['seq:step:1'], 'metadata': {'thread_id': 'ayad-01012489', 'langgraph_step': 4, 'langgraph_node': 'chat', 'langgraph_triggers': ('branch:to:chat',), 'langgraph_path': ('__pregel_pull', 'chat'), 'langgraph_checkpoint_ns': 'chat:682b4ba4-6a07-8e05-6f16-62a99c361b55', 'checkpoint_ns': 'chat:682b4ba4-6a07-8e05-6f16-62a99c361b55', 'ls_provider': 'groq', 'ls_model_name': 'llama3-8b-8192', 'ls_model_type': 'chat', 'ls_temperature': 0.7}, 'parent_ids': ['d8475012-22fe-4b06-8535-220b6e476378', '3fd2f1ee-dd26-4788-a00f-eb4a767bb0e9']}\n",
      "{'event': 'on_chat_model_stream', 'data': {'chunk': AIMessageChunk(content=' chance', additional_kwargs={}, response_metadata={}, id='run--af85163f-b994-4b33-ab36-dda0c3a2d331')}, 'run_id': 'af85163f-b994-4b33-ab36-dda0c3a2d331', 'name': 'ChatGroq', 'tags': ['seq:step:1'], 'metadata': {'thread_id': 'ayad-01012489', 'langgraph_step': 4, 'langgraph_node': 'chat', 'langgraph_triggers': ('branch:to:chat',), 'langgraph_path': ('__pregel_pull', 'chat'), 'langgraph_checkpoint_ns': 'chat:682b4ba4-6a07-8e05-6f16-62a99c361b55', 'checkpoint_ns': 'chat:682b4ba4-6a07-8e05-6f16-62a99c361b55', 'ls_provider': 'groq', 'ls_model_name': 'llama3-8b-8192', 'ls_model_type': 'chat', 'ls_temperature': 0.7}, 'parent_ids': ['d8475012-22fe-4b06-8535-220b6e476378', '3fd2f1ee-dd26-4788-a00f-eb4a767bb0e9']}\n",
      "{'event': 'on_chat_model_stream', 'data': {'chunk': AIMessageChunk(content=' to', additional_kwargs={}, response_metadata={}, id='run--af85163f-b994-4b33-ab36-dda0c3a2d331')}, 'run_id': 'af85163f-b994-4b33-ab36-dda0c3a2d331', 'name': 'ChatGroq', 'tags': ['seq:step:1'], 'metadata': {'thread_id': 'ayad-01012489', 'langgraph_step': 4, 'langgraph_node': 'chat', 'langgraph_triggers': ('branch:to:chat',), 'langgraph_path': ('__pregel_pull', 'chat'), 'langgraph_checkpoint_ns': 'chat:682b4ba4-6a07-8e05-6f16-62a99c361b55', 'checkpoint_ns': 'chat:682b4ba4-6a07-8e05-6f16-62a99c361b55', 'ls_provider': 'groq', 'ls_model_name': 'llama3-8b-8192', 'ls_model_type': 'chat', 'ls_temperature': 0.7}, 'parent_ids': ['d8475012-22fe-4b06-8535-220b6e476378', '3fd2f1ee-dd26-4788-a00f-eb4a767bb0e9']}\n",
      "{'event': 'on_chat_model_stream', 'data': {'chunk': AIMessageChunk(content=' explore', additional_kwargs={}, response_metadata={}, id='run--af85163f-b994-4b33-ab36-dda0c3a2d331')}, 'run_id': 'af85163f-b994-4b33-ab36-dda0c3a2d331', 'name': 'ChatGroq', 'tags': ['seq:step:1'], 'metadata': {'thread_id': 'ayad-01012489', 'langgraph_step': 4, 'langgraph_node': 'chat', 'langgraph_triggers': ('branch:to:chat',), 'langgraph_path': ('__pregel_pull', 'chat'), 'langgraph_checkpoint_ns': 'chat:682b4ba4-6a07-8e05-6f16-62a99c361b55', 'checkpoint_ns': 'chat:682b4ba4-6a07-8e05-6f16-62a99c361b55', 'ls_provider': 'groq', 'ls_model_name': 'llama3-8b-8192', 'ls_model_type': 'chat', 'ls_temperature': 0.7}, 'parent_ids': ['d8475012-22fe-4b06-8535-220b6e476378', '3fd2f1ee-dd26-4788-a00f-eb4a767bb0e9']}\n",
      "{'event': 'on_chat_model_stream', 'data': {'chunk': AIMessageChunk(content=' any', additional_kwargs={}, response_metadata={}, id='run--af85163f-b994-4b33-ab36-dda0c3a2d331')}, 'run_id': 'af85163f-b994-4b33-ab36-dda0c3a2d331', 'name': 'ChatGroq', 'tags': ['seq:step:1'], 'metadata': {'thread_id': 'ayad-01012489', 'langgraph_step': 4, 'langgraph_node': 'chat', 'langgraph_triggers': ('branch:to:chat',), 'langgraph_path': ('__pregel_pull', 'chat'), 'langgraph_checkpoint_ns': 'chat:682b4ba4-6a07-8e05-6f16-62a99c361b55', 'checkpoint_ns': 'chat:682b4ba4-6a07-8e05-6f16-62a99c361b55', 'ls_provider': 'groq', 'ls_model_name': 'llama3-8b-8192', 'ls_model_type': 'chat', 'ls_temperature': 0.7}, 'parent_ids': ['d8475012-22fe-4b06-8535-220b6e476378', '3fd2f1ee-dd26-4788-a00f-eb4a767bb0e9']}\n",
      "{'event': 'on_chat_model_stream', 'data': {'chunk': AIMessageChunk(content=' new', additional_kwargs={}, response_metadata={}, id='run--af85163f-b994-4b33-ab36-dda0c3a2d331')}, 'run_id': 'af85163f-b994-4b33-ab36-dda0c3a2d331', 'name': 'ChatGroq', 'tags': ['seq:step:1'], 'metadata': {'thread_id': 'ayad-01012489', 'langgraph_step': 4, 'langgraph_node': 'chat', 'langgraph_triggers': ('branch:to:chat',), 'langgraph_path': ('__pregel_pull', 'chat'), 'langgraph_checkpoint_ns': 'chat:682b4ba4-6a07-8e05-6f16-62a99c361b55', 'checkpoint_ns': 'chat:682b4ba4-6a07-8e05-6f16-62a99c361b55', 'ls_provider': 'groq', 'ls_model_name': 'llama3-8b-8192', 'ls_model_type': 'chat', 'ls_temperature': 0.7}, 'parent_ids': ['d8475012-22fe-4b06-8535-220b6e476378', '3fd2f1ee-dd26-4788-a00f-eb4a767bb0e9']}\n",
      "{'event': 'on_chat_model_stream', 'data': {'chunk': AIMessageChunk(content=' places', additional_kwargs={}, response_metadata={}, id='run--af85163f-b994-4b33-ab36-dda0c3a2d331')}, 'run_id': 'af85163f-b994-4b33-ab36-dda0c3a2d331', 'name': 'ChatGroq', 'tags': ['seq:step:1'], 'metadata': {'thread_id': 'ayad-01012489', 'langgraph_step': 4, 'langgraph_node': 'chat', 'langgraph_triggers': ('branch:to:chat',), 'langgraph_path': ('__pregel_pull', 'chat'), 'langgraph_checkpoint_ns': 'chat:682b4ba4-6a07-8e05-6f16-62a99c361b55', 'checkpoint_ns': 'chat:682b4ba4-6a07-8e05-6f16-62a99c361b55', 'ls_provider': 'groq', 'ls_model_name': 'llama3-8b-8192', 'ls_model_type': 'chat', 'ls_temperature': 0.7}, 'parent_ids': ['d8475012-22fe-4b06-8535-220b6e476378', '3fd2f1ee-dd26-4788-a00f-eb4a767bb0e9']}\n",
      "{'event': 'on_chat_model_stream', 'data': {'chunk': AIMessageChunk(content=' or', additional_kwargs={}, response_metadata={}, id='run--af85163f-b994-4b33-ab36-dda0c3a2d331')}, 'run_id': 'af85163f-b994-4b33-ab36-dda0c3a2d331', 'name': 'ChatGroq', 'tags': ['seq:step:1'], 'metadata': {'thread_id': 'ayad-01012489', 'langgraph_step': 4, 'langgraph_node': 'chat', 'langgraph_triggers': ('branch:to:chat',), 'langgraph_path': ('__pregel_pull', 'chat'), 'langgraph_checkpoint_ns': 'chat:682b4ba4-6a07-8e05-6f16-62a99c361b55', 'checkpoint_ns': 'chat:682b4ba4-6a07-8e05-6f16-62a99c361b55', 'ls_provider': 'groq', 'ls_model_name': 'llama3-8b-8192', 'ls_model_type': 'chat', 'ls_temperature': 0.7}, 'parent_ids': ['d8475012-22fe-4b06-8535-220b6e476378', '3fd2f1ee-dd26-4788-a00f-eb4a767bb0e9']}\n",
      "{'event': 'on_chat_model_stream', 'data': {'chunk': AIMessageChunk(content=' try', additional_kwargs={}, response_metadata={}, id='run--af85163f-b994-4b33-ab36-dda0c3a2d331')}, 'run_id': 'af85163f-b994-4b33-ab36-dda0c3a2d331', 'name': 'ChatGroq', 'tags': ['seq:step:1'], 'metadata': {'thread_id': 'ayad-01012489', 'langgraph_step': 4, 'langgraph_node': 'chat', 'langgraph_triggers': ('branch:to:chat',), 'langgraph_path': ('__pregel_pull', 'chat'), 'langgraph_checkpoint_ns': 'chat:682b4ba4-6a07-8e05-6f16-62a99c361b55', 'checkpoint_ns': 'chat:682b4ba4-6a07-8e05-6f16-62a99c361b55', 'ls_provider': 'groq', 'ls_model_name': 'llama3-8b-8192', 'ls_model_type': 'chat', 'ls_temperature': 0.7}, 'parent_ids': ['d8475012-22fe-4b06-8535-220b6e476378', '3fd2f1ee-dd26-4788-a00f-eb4a767bb0e9']}\n",
      "{'event': 'on_chat_model_stream', 'data': {'chunk': AIMessageChunk(content=' any', additional_kwargs={}, response_metadata={}, id='run--af85163f-b994-4b33-ab36-dda0c3a2d331')}, 'run_id': 'af85163f-b994-4b33-ab36-dda0c3a2d331', 'name': 'ChatGroq', 'tags': ['seq:step:1'], 'metadata': {'thread_id': 'ayad-01012489', 'langgraph_step': 4, 'langgraph_node': 'chat', 'langgraph_triggers': ('branch:to:chat',), 'langgraph_path': ('__pregel_pull', 'chat'), 'langgraph_checkpoint_ns': 'chat:682b4ba4-6a07-8e05-6f16-62a99c361b55', 'checkpoint_ns': 'chat:682b4ba4-6a07-8e05-6f16-62a99c361b55', 'ls_provider': 'groq', 'ls_model_name': 'llama3-8b-8192', 'ls_model_type': 'chat', 'ls_temperature': 0.7}, 'parent_ids': ['d8475012-22fe-4b06-8535-220b6e476378', '3fd2f1ee-dd26-4788-a00f-eb4a767bb0e9']}\n",
      "{'event': 'on_chat_model_stream', 'data': {'chunk': AIMessageChunk(content=' delicious', additional_kwargs={}, response_metadata={}, id='run--af85163f-b994-4b33-ab36-dda0c3a2d331')}, 'run_id': 'af85163f-b994-4b33-ab36-dda0c3a2d331', 'name': 'ChatGroq', 'tags': ['seq:step:1'], 'metadata': {'thread_id': 'ayad-01012489', 'langgraph_step': 4, 'langgraph_node': 'chat', 'langgraph_triggers': ('branch:to:chat',), 'langgraph_path': ('__pregel_pull', 'chat'), 'langgraph_checkpoint_ns': 'chat:682b4ba4-6a07-8e05-6f16-62a99c361b55', 'checkpoint_ns': 'chat:682b4ba4-6a07-8e05-6f16-62a99c361b55', 'ls_provider': 'groq', 'ls_model_name': 'llama3-8b-8192', 'ls_model_type': 'chat', 'ls_temperature': 0.7}, 'parent_ids': ['d8475012-22fe-4b06-8535-220b6e476378', '3fd2f1ee-dd26-4788-a00f-eb4a767bb0e9']}\n",
      "{'event': 'on_chat_model_stream', 'data': {'chunk': AIMessageChunk(content=' Egyptian', additional_kwargs={}, response_metadata={}, id='run--af85163f-b994-4b33-ab36-dda0c3a2d331')}, 'run_id': 'af85163f-b994-4b33-ab36-dda0c3a2d331', 'name': 'ChatGroq', 'tags': ['seq:step:1'], 'metadata': {'thread_id': 'ayad-01012489', 'langgraph_step': 4, 'langgraph_node': 'chat', 'langgraph_triggers': ('branch:to:chat',), 'langgraph_path': ('__pregel_pull', 'chat'), 'langgraph_checkpoint_ns': 'chat:682b4ba4-6a07-8e05-6f16-62a99c361b55', 'checkpoint_ns': 'chat:682b4ba4-6a07-8e05-6f16-62a99c361b55', 'ls_provider': 'groq', 'ls_model_name': 'llama3-8b-8192', 'ls_model_type': 'chat', 'ls_temperature': 0.7}, 'parent_ids': ['d8475012-22fe-4b06-8535-220b6e476378', '3fd2f1ee-dd26-4788-a00f-eb4a767bb0e9']}\n",
      "{'event': 'on_chat_model_stream', 'data': {'chunk': AIMessageChunk(content=' food', additional_kwargs={}, response_metadata={}, id='run--af85163f-b994-4b33-ab36-dda0c3a2d331')}, 'run_id': 'af85163f-b994-4b33-ab36-dda0c3a2d331', 'name': 'ChatGroq', 'tags': ['seq:step:1'], 'metadata': {'thread_id': 'ayad-01012489', 'langgraph_step': 4, 'langgraph_node': 'chat', 'langgraph_triggers': ('branch:to:chat',), 'langgraph_path': ('__pregel_pull', 'chat'), 'langgraph_checkpoint_ns': 'chat:682b4ba4-6a07-8e05-6f16-62a99c361b55', 'checkpoint_ns': 'chat:682b4ba4-6a07-8e05-6f16-62a99c361b55', 'ls_provider': 'groq', 'ls_model_name': 'llama3-8b-8192', 'ls_model_type': 'chat', 'ls_temperature': 0.7}, 'parent_ids': ['d8475012-22fe-4b06-8535-220b6e476378', '3fd2f1ee-dd26-4788-a00f-eb4a767bb0e9']}\n",
      "{'event': 'on_chat_model_stream', 'data': {'chunk': AIMessageChunk(content='?', additional_kwargs={}, response_metadata={}, id='run--af85163f-b994-4b33-ab36-dda0c3a2d331')}, 'run_id': 'af85163f-b994-4b33-ab36-dda0c3a2d331', 'name': 'ChatGroq', 'tags': ['seq:step:1'], 'metadata': {'thread_id': 'ayad-01012489', 'langgraph_step': 4, 'langgraph_node': 'chat', 'langgraph_triggers': ('branch:to:chat',), 'langgraph_path': ('__pregel_pull', 'chat'), 'langgraph_checkpoint_ns': 'chat:682b4ba4-6a07-8e05-6f16-62a99c361b55', 'checkpoint_ns': 'chat:682b4ba4-6a07-8e05-6f16-62a99c361b55', 'ls_provider': 'groq', 'ls_model_name': 'llama3-8b-8192', 'ls_model_type': 'chat', 'ls_temperature': 0.7}, 'parent_ids': ['d8475012-22fe-4b06-8535-220b6e476378', '3fd2f1ee-dd26-4788-a00f-eb4a767bb0e9']}\n",
      "{'event': 'on_chat_model_stream', 'data': {'chunk': AIMessageChunk(content='', additional_kwargs={}, response_metadata={'finish_reason': 'stop', 'model_name': 'llama3-8b-8192', 'system_fingerprint': 'fp_8b7c3a83f7'}, id='run--af85163f-b994-4b33-ab36-dda0c3a2d331', usage_metadata={'input_tokens': 108, 'output_tokens': 33, 'total_tokens': 141})}, 'run_id': 'af85163f-b994-4b33-ab36-dda0c3a2d331', 'name': 'ChatGroq', 'tags': ['seq:step:1'], 'metadata': {'thread_id': 'ayad-01012489', 'langgraph_step': 4, 'langgraph_node': 'chat', 'langgraph_triggers': ('branch:to:chat',), 'langgraph_path': ('__pregel_pull', 'chat'), 'langgraph_checkpoint_ns': 'chat:682b4ba4-6a07-8e05-6f16-62a99c361b55', 'checkpoint_ns': 'chat:682b4ba4-6a07-8e05-6f16-62a99c361b55', 'ls_provider': 'groq', 'ls_model_name': 'llama3-8b-8192', 'ls_model_type': 'chat', 'ls_temperature': 0.7}, 'parent_ids': ['d8475012-22fe-4b06-8535-220b6e476378', '3fd2f1ee-dd26-4788-a00f-eb4a767bb0e9']}\n",
      "{'event': 'on_chat_model_end', 'data': {'output': AIMessage(content='Hello again Ayad! Welcome back! How was your day in Egypt? Did you have a chance to explore any new places or try any delicious Egyptian food?', additional_kwargs={}, response_metadata={'finish_reason': 'stop', 'model_name': 'llama3-8b-8192', 'system_fingerprint': 'fp_8b7c3a83f7'}, id='run--af85163f-b994-4b33-ab36-dda0c3a2d331', usage_metadata={'input_tokens': 108, 'output_tokens': 33, 'total_tokens': 141}), 'input': {'messages': [[HumanMessage(content=\"hi, my name is ayad and i'm from egypt\", additional_kwargs={}, response_metadata={}, id='81f60c94-c3e5-433d-969a-a266fcf5339d'), AIMessage(content=\"Hello Ayad! Nice to meet you! Egypt is a fascinating country with a rich history and culture. What brings you here today? Are you interested in learning something new, or do you have a specific question or topic you'd like to discuss? I'm here to help and happy to chat with you!\", additional_kwargs={}, response_metadata={'token_usage': {'completion_tokens': 63, 'prompt_tokens': 23, 'total_tokens': 86, 'completion_time': 0.05855761, 'prompt_time': 0.005692203, 'queue_time': 0.167894353, 'total_time': 0.064249813}, 'model_name': 'llama3-8b-8192', 'system_fingerprint': 'fp_6d1c2b0784', 'finish_reason': 'stop', 'logprobs': None}, id='run--e7c69518-0092-4900-a3ac-ee0174f6fdc2-0', usage_metadata={'input_tokens': 23, 'output_tokens': 63, 'total_tokens': 86}), HumanMessage(content=\"hi, my name is ayad and i'm from egypt\", additional_kwargs={}, response_metadata={}, id='808f7348-d3bf-44f2-b9f3-f8fbeeb3f064')]]}}, 'run_id': 'af85163f-b994-4b33-ab36-dda0c3a2d331', 'name': 'ChatGroq', 'tags': ['seq:step:1'], 'metadata': {'thread_id': 'ayad-01012489', 'langgraph_step': 4, 'langgraph_node': 'chat', 'langgraph_triggers': ('branch:to:chat',), 'langgraph_path': ('__pregel_pull', 'chat'), 'langgraph_checkpoint_ns': 'chat:682b4ba4-6a07-8e05-6f16-62a99c361b55', 'checkpoint_ns': 'chat:682b4ba4-6a07-8e05-6f16-62a99c361b55', 'ls_provider': 'groq', 'ls_model_name': 'llama3-8b-8192', 'ls_model_type': 'chat', 'ls_temperature': 0.7, 'LANGSMITH_ENDPOINT': 'https://api.smith.langchain.com', 'LANGSMITH_PROJECT': 'langgraph', 'LANGSMITH_TRACING': 'true'}, 'parent_ids': ['d8475012-22fe-4b06-8535-220b6e476378', '3fd2f1ee-dd26-4788-a00f-eb4a767bb0e9']}\n",
      "{'event': 'on_chain_stream', 'run_id': '3fd2f1ee-dd26-4788-a00f-eb4a767bb0e9', 'name': 'chat', 'tags': ['graph:step:4'], 'metadata': {'thread_id': 'ayad-01012489', 'langgraph_step': 4, 'langgraph_node': 'chat', 'langgraph_triggers': ('branch:to:chat',), 'langgraph_path': ('__pregel_pull', 'chat'), 'langgraph_checkpoint_ns': 'chat:682b4ba4-6a07-8e05-6f16-62a99c361b55'}, 'data': {'chunk': {'messages': [AIMessage(content='Hello again Ayad! Welcome back! How was your day in Egypt? Did you have a chance to explore any new places or try any delicious Egyptian food?', additional_kwargs={}, response_metadata={'finish_reason': 'stop', 'model_name': 'llama3-8b-8192', 'system_fingerprint': 'fp_8b7c3a83f7'}, id='run--af85163f-b994-4b33-ab36-dda0c3a2d331', usage_metadata={'input_tokens': 108, 'output_tokens': 33, 'total_tokens': 141})]}}, 'parent_ids': ['d8475012-22fe-4b06-8535-220b6e476378']}\n",
      "{'event': 'on_chain_end', 'data': {'output': {'messages': [AIMessage(content='Hello again Ayad! Welcome back! How was your day in Egypt? Did you have a chance to explore any new places or try any delicious Egyptian food?', additional_kwargs={}, response_metadata={'finish_reason': 'stop', 'model_name': 'llama3-8b-8192', 'system_fingerprint': 'fp_8b7c3a83f7'}, id='run--af85163f-b994-4b33-ab36-dda0c3a2d331', usage_metadata={'input_tokens': 108, 'output_tokens': 33, 'total_tokens': 141})]}, 'input': {'messages': [HumanMessage(content=\"hi, my name is ayad and i'm from egypt\", additional_kwargs={}, response_metadata={}, id='81f60c94-c3e5-433d-969a-a266fcf5339d'), AIMessage(content=\"Hello Ayad! Nice to meet you! Egypt is a fascinating country with a rich history and culture. What brings you here today? Are you interested in learning something new, or do you have a specific question or topic you'd like to discuss? I'm here to help and happy to chat with you!\", additional_kwargs={}, response_metadata={'token_usage': {'completion_tokens': 63, 'prompt_tokens': 23, 'total_tokens': 86, 'completion_time': 0.05855761, 'prompt_time': 0.005692203, 'queue_time': 0.167894353, 'total_time': 0.064249813}, 'model_name': 'llama3-8b-8192', 'system_fingerprint': 'fp_6d1c2b0784', 'finish_reason': 'stop', 'logprobs': None}, id='run--e7c69518-0092-4900-a3ac-ee0174f6fdc2-0', usage_metadata={'input_tokens': 23, 'output_tokens': 63, 'total_tokens': 86}), HumanMessage(content=\"hi, my name is ayad and i'm from egypt\", additional_kwargs={}, response_metadata={}, id='808f7348-d3bf-44f2-b9f3-f8fbeeb3f064')]}}, 'run_id': '3fd2f1ee-dd26-4788-a00f-eb4a767bb0e9', 'name': 'chat', 'tags': ['graph:step:4'], 'metadata': {'thread_id': 'ayad-01012489', 'langgraph_step': 4, 'langgraph_node': 'chat', 'langgraph_triggers': ('branch:to:chat',), 'langgraph_path': ('__pregel_pull', 'chat'), 'langgraph_checkpoint_ns': 'chat:682b4ba4-6a07-8e05-6f16-62a99c361b55', 'LANGSMITH_ENDPOINT': 'https://api.smith.langchain.com', 'LANGSMITH_PROJECT': 'langgraph', 'LANGSMITH_TRACING': 'true'}, 'parent_ids': ['d8475012-22fe-4b06-8535-220b6e476378']}\n",
      "{'event': 'on_chain_stream', 'run_id': 'd8475012-22fe-4b06-8535-220b6e476378', 'name': 'LangGraph', 'tags': [], 'metadata': {'thread_id': 'ayad-01012489', 'LANGSMITH_ENDPOINT': 'https://api.smith.langchain.com', 'LANGSMITH_PROJECT': 'langgraph', 'LANGSMITH_TRACING': 'true'}, 'data': {'chunk': {'messages': [HumanMessage(content=\"hi, my name is ayad and i'm from egypt\", additional_kwargs={}, response_metadata={}, id='81f60c94-c3e5-433d-969a-a266fcf5339d'), AIMessage(content=\"Hello Ayad! Nice to meet you! Egypt is a fascinating country with a rich history and culture. What brings you here today? Are you interested in learning something new, or do you have a specific question or topic you'd like to discuss? I'm here to help and happy to chat with you!\", additional_kwargs={}, response_metadata={'token_usage': {'completion_tokens': 63, 'prompt_tokens': 23, 'total_tokens': 86, 'completion_time': 0.05855761, 'prompt_time': 0.005692203, 'queue_time': 0.167894353, 'total_time': 0.064249813}, 'model_name': 'llama3-8b-8192', 'system_fingerprint': 'fp_6d1c2b0784', 'finish_reason': 'stop', 'logprobs': None}, id='run--e7c69518-0092-4900-a3ac-ee0174f6fdc2-0', usage_metadata={'input_tokens': 23, 'output_tokens': 63, 'total_tokens': 86}), HumanMessage(content=\"hi, my name is ayad and i'm from egypt\", additional_kwargs={}, response_metadata={}, id='808f7348-d3bf-44f2-b9f3-f8fbeeb3f064'), AIMessage(content='Hello again Ayad! Welcome back! How was your day in Egypt? Did you have a chance to explore any new places or try any delicious Egyptian food?', additional_kwargs={}, response_metadata={'finish_reason': 'stop', 'model_name': 'llama3-8b-8192', 'system_fingerprint': 'fp_8b7c3a83f7'}, id='run--af85163f-b994-4b33-ab36-dda0c3a2d331', usage_metadata={'input_tokens': 108, 'output_tokens': 33, 'total_tokens': 141})]}}, 'parent_ids': []}\n",
      "{'event': 'on_chain_end', 'data': {'output': {'messages': [HumanMessage(content=\"hi, my name is ayad and i'm from egypt\", additional_kwargs={}, response_metadata={}, id='81f60c94-c3e5-433d-969a-a266fcf5339d'), AIMessage(content=\"Hello Ayad! Nice to meet you! Egypt is a fascinating country with a rich history and culture. What brings you here today? Are you interested in learning something new, or do you have a specific question or topic you'd like to discuss? I'm here to help and happy to chat with you!\", additional_kwargs={}, response_metadata={'token_usage': {'completion_tokens': 63, 'prompt_tokens': 23, 'total_tokens': 86, 'completion_time': 0.05855761, 'prompt_time': 0.005692203, 'queue_time': 0.167894353, 'total_time': 0.064249813}, 'model_name': 'llama3-8b-8192', 'system_fingerprint': 'fp_6d1c2b0784', 'finish_reason': 'stop', 'logprobs': None}, id='run--e7c69518-0092-4900-a3ac-ee0174f6fdc2-0', usage_metadata={'input_tokens': 23, 'output_tokens': 63, 'total_tokens': 86}), HumanMessage(content=\"hi, my name is ayad and i'm from egypt\", additional_kwargs={}, response_metadata={}, id='808f7348-d3bf-44f2-b9f3-f8fbeeb3f064'), AIMessage(content='Hello again Ayad! Welcome back! How was your day in Egypt? Did you have a chance to explore any new places or try any delicious Egyptian food?', additional_kwargs={}, response_metadata={'finish_reason': 'stop', 'model_name': 'llama3-8b-8192', 'system_fingerprint': 'fp_8b7c3a83f7'}, id='run--af85163f-b994-4b33-ab36-dda0c3a2d331', usage_metadata={'input_tokens': 108, 'output_tokens': 33, 'total_tokens': 141})]}}, 'run_id': 'd8475012-22fe-4b06-8535-220b6e476378', 'name': 'LangGraph', 'tags': [], 'metadata': {'thread_id': 'ayad-01012489', 'LANGSMITH_ENDPOINT': 'https://api.smith.langchain.com', 'LANGSMITH_PROJECT': 'langgraph', 'LANGSMITH_TRACING': 'true'}, 'parent_ids': []}\n"
     ]
    }
   ],
   "source": [
    "config = {'configurable' : {'thread_id' : 'ayad-01012489'}}\n",
    "async for chunk in gr.astream_events({'messages': \"hi, my name is ayad and i'm from egypt\"}, config=config, stream_mode='values'):\n",
    "    print(chunk)"
   ]
  },
  {
   "cell_type": "markdown",
   "id": "49f82956",
   "metadata": {},
   "source": [
    "# Human In The Loop"
   ]
  },
  {
   "cell_type": "code",
   "execution_count": 46,
   "id": "03ccfe76",
   "metadata": {},
   "outputs": [],
   "source": [
    "from langgraph.types import Command, interrupt\n",
    "from langchain_core.tools import tool"
   ]
  },
  {
   "cell_type": "code",
   "execution_count": 49,
   "id": "1b8a1cd1",
   "metadata": {},
   "outputs": [],
   "source": [
    "@tool\n",
    "def human_ass(query: str) -> str:\n",
    "    \"\"\"Request assistance from a human.\"\"\"\n",
    "    return interrupt({'query': query})['data']"
   ]
  },
  {
   "cell_type": "code",
   "execution_count": 50,
   "id": "9e4f6452",
   "metadata": {},
   "outputs": [],
   "source": [
    "tools = [tavily, human_ass]\n",
    "\n",
    "llm_with_tools = llm.bind_tools(tools)"
   ]
  },
  {
   "cell_type": "code",
   "execution_count": 51,
   "id": "4e07b379",
   "metadata": {},
   "outputs": [],
   "source": [
    "def chat(state: State):\n",
    "    return {'messages': [llm_with_tools.invoke(state['messages'])]}"
   ]
  },
  {
   "cell_type": "code",
   "execution_count": 58,
   "id": "005ce02a",
   "metadata": {},
   "outputs": [
    {
     "data": {
      "image/png": "[encoded data removed]",
      "text/plain": [
       "<IPython.core.display.Image object>"
      ]
     },
     "metadata": {},
     "output_type": "display_data"
    }
   ],
   "source": [
    "graph = StateGraph(State)\n",
    "\n",
    "graph.add_node(chat)\n",
    "graph.add_node(ToolNode(tools))\n",
    "\n",
    "graph.add_edge(START, 'chat')\n",
    "graph.add_conditional_edges('chat', tools_condition)\n",
    "graph.add_edge('tools', 'chat')\n",
    "\n",
    "gr = graph.compile(checkpointer = mem)\n",
    "\n",
    "display(Image(gr.get_graph().draw_mermaid_png()))"
   ]
  },
  {
   "cell_type": "code",
   "execution_count": 65,
   "id": "83a475f9",
   "metadata": {},
   "outputs": [
    {
     "name": "stdout",
     "output_type": "stream",
     "text": [
      "================================\u001b[1m Human Message \u001b[0m=================================\n",
      "\n",
      "I want to request an assistant to ask how can i build ai agent\n",
      "==================================\u001b[1m Ai Message \u001b[0m==================================\n",
      "Tool Calls:\n",
      "  human_ass (3zfr0mefb)\n",
      " Call ID: 3zfr0mefb\n",
      "  Args:\n",
      "    query: How can I build an AI agent?\n"
     ]
    }
   ],
   "source": [
    "config = {'configurable' : {'thread_id' : '100'}}\n",
    "\n",
    "events = gr.stream(\n",
    "    input = {'messages' : 'I want to request an assistant to ask how can i build ai agent'},\n",
    "    config = config,\n",
    "    stream_mode = 'values'\n",
    ")\n",
    "\n",
    "for ev in events:\n",
    "    if 'messages' in ev: ev['messages'][-1].pretty_print()"
   ]
  },
  {
   "cell_type": "code",
   "execution_count": 66,
   "id": "bdfa9fef",
   "metadata": {},
   "outputs": [
    {
     "data": {
      "text/plain": [
       "{'messages': [HumanMessage(content='I want to request an assistant to ask how can i build ai agent', additional_kwargs={}, response_metadata={}, id='d29abc67-0d35-4aa0-b0bb-adc69f60d55c'),\n",
       "  AIMessage(content='', additional_kwargs={'tool_calls': [{'id': '3zfr0mefb', 'function': {'arguments': '{\"query\":\"How can I build an AI agent?\"}', 'name': 'human_ass'}, 'type': 'function'}]}, response_metadata={'token_usage': {'completion_tokens': 72, 'prompt_tokens': 2237, 'total_tokens': 2309, 'completion_time': 0.051549265, 'prompt_time': 0.260755967, 'queue_time': 0.181355869, 'total_time': 0.312305232}, 'model_name': 'llama3-8b-8192', 'system_fingerprint': 'fp_2717d04279', 'finish_reason': 'tool_calls', 'logprobs': None}, id='run--eaec296b-332a-4d0c-bb2b-2ed9e2a2ae6f-0', tool_calls=[{'name': 'human_ass', 'args': {'query': 'How can I build an AI agent?'}, 'id': '3zfr0mefb', 'type': 'tool_call'}], usage_metadata={'input_tokens': 2237, 'output_tokens': 72, 'total_tokens': 2309})]}"
      ]
     },
     "execution_count": 66,
     "metadata": {},
     "output_type": "execute_result"
    }
   ],
   "source": [
    "ev"
   ]
  },
  {
   "cell_type": "code",
   "execution_count": 67,
   "id": "c0ab9dab",
   "metadata": {},
   "outputs": [
    {
     "name": "stdout",
     "output_type": "stream",
     "text": [
      "==================================\u001b[1m Ai Message \u001b[0m==================================\n",
      "Tool Calls:\n",
      "  human_ass (3zfr0mefb)\n",
      " Call ID: 3zfr0mefb\n",
      "  Args:\n",
      "    query: How can I build an AI agent?\n",
      "=================================\u001b[1m Tool Message \u001b[0m=================================\n",
      "Name: human_ass\n",
      "\n",
      "You can build agentic workflow easily with the help of langgraph framwork\n",
      "==================================\u001b[1m Ai Message \u001b[0m==================================\n",
      "Tool Calls:\n",
      "  tavily_search (5x6q1182y)\n",
      " Call ID: 5x6q1182y\n",
      "  Args:\n",
      "    exclude_domains: []\n",
      "    include_domains: []\n",
      "    include_favicon: True\n",
      "    include_images: False\n",
      "    query: What is LangGraph framework?\n",
      "    search_depth: advanced\n",
      "    time_range: None\n",
      "    topic: general\n",
      "=================================\u001b[1m Tool Message \u001b[0m=================================\n",
      "Name: tavily_search\n",
      "\n",
      "{\"query\": \"What is LangGraph framework?\", \"follow_up_questions\": null, \"answer\": null, \"images\": [], \"results\": [{\"url\": \"https://www.ibm.com/think/topics/langgraph\", \"title\": \"What is LangGraph? - IBM\", \"content\": \"LangGraph, created by LangChain, is an open source AI agent framework designed to build, deploy and manage complex generative AI agent workflows. It provides a set of tools and libraries that enable users to create, run and optimize large language models (LLMs) in a scalable and efficient manner. At its core, LangGraph uses the power of graph-based architectures to model and manage the intricate relationships between various components of an AI agent workflow. [...] Agent systems: LangGraph provides a framework for building agent-based systems, which can be used in applications such as robotics, autonomous vehicles or video games.\\n\\nLLM applications: By using LangGraph’s capabilities, developers can build more sophisticated AI models that learn and improve over time. Norwegian Cruise Line uses LangGraph to compile, construct and refine guest-facing AI solutions. This capability allows for improved and personalized guest experiences. [...] Enhanced decision-making: By modeling complex relationships between nodes, LangGraph provides a framework for building more effective decision-making systems.\\n\\nIncreased flexibility: An open source nature and modular design for developers to integrate new components and adapt existing workflows.\", \"score\": 0.94301796, \"raw_content\": null, \"favicon\": \"https://ibm.com/content/dam/adobe-cms/default-images/icon-16x16.png\"}, {\"url\": \"https://langchain-ai.github.io/langgraph/\", \"title\": \"LangGraph\", \"content\": \"Trusted by companies shaping the future of agents – including Klarna, Replit, Elastic, and more – LangGraph is a low-level orchestration framework for building, managing, and deploying long-running, stateful agents.\\n\\nGet started¶\\n--------------------------------------------------------------------------------------\\n\\nInstall LangGraph:\\n\\n```\\npip install -U langgraph\\n```\\n\\nThen, create an agent using prebuilt components:\\n\\n```\\n# pip install -qU \\\"langchain[anthropic]\\\" to call the model\", \"score\": 0.9231018, \"raw_content\": null, \"favicon\": null}], \"response_time\": 2.78}\n",
      "==================================\u001b[1m Ai Message \u001b[0m==================================\n",
      "Tool Calls:\n",
      "  tavily_search (eywjy7v7s)\n",
      " Call ID: eywjy7v7s\n",
      "  Args:\n",
      "    exclude_domains: []\n",
      "    include_domains: []\n",
      "    include_favicon: True\n",
      "    include_images: False\n",
      "    query: How can I build agentic workflow easily with the help of LangGraph framework?\n",
      "    search_depth: advanced\n",
      "    time_range: None\n",
      "    topic: general\n",
      "=================================\u001b[1m Tool Message \u001b[0m=================================\n",
      "Name: tavily_search\n",
      "\n",
      "{\"query\": \"How can I build agentic workflow easily with the help of LangGraph framework?\", \"follow_up_questions\": null, \"answer\": null, \"images\": [], \"results\": [{\"url\": \"https://medium.com/@LakshmiNarayana_U/exploring-ai-automation-agentic-workflows-with-langgraph-and-tavily-155f5442a999\", \"title\": \"Exploring AI Automation: Agentic Workflows with LangGraph and ...\", \"content\": \"In conclusion, AI agents and agentic workflows represent a significant advancement in the field of artificial intelligence, enabling more adaptive, efficient, and intelligent systems. LangGraph, as an extension of LangChain, offers powerful tools for building these workflows, making it easier for developers to create highly controllable and collaborative agents. By leveraging state, nodes, and edges, LangGraph provides a scaleable framework for managing complex AI tasks and improving [...] _Cycles and Branching_: LangGraph allows the implementation of loops and conditional statements in your applications.\\n   _Persistence_: The state of the graph is automatically saved after each step, enabling the graph execution to be paused and resumed at any point. This feature supports error recovery, human-in-the-loop workflows, and time travel among others.\", \"score\": 0.8757978, \"raw_content\": null, \"favicon\": \"https://miro.medium.com/v2/5d8de952517e8160e40ef9841c781cdc14a5db313057fa3c3de41c6f5b494b19\"}, {\"url\": \"https://blog.searce.com/building-your-first-agentic-workflow-with-langgraph-and-gemini-llm-a-step-by-step-guide-c173c9dcdfe7\", \"title\": \"Building Your First Agentic Workflow with LangGraph and Gemini LLM\", \"content\": \"The real magic of agentic systems is their coordination — breaking down tasks, making smart decisions, and working together just like a team. With LangGraph, you now have the tools to build those systems. Go build something amazing!\\n\\n--\\n\\n--\\n\\nSearce\\nSearce\\n\\n## Published in Searce [...] ## 1. Installation & Environment Setup\\n\\nInstall the necessary Python packages:\\n\\nSet your API keys:\\n\\nCreate a .env or use OS environment variables to avoid hardcoding keys in your codebase.\\n\\n## 2. Core Concepts in LangGraph\\n\\nBefore jumping into code, let’s break down some essential LangGraph building blocks:\\n\\n## 3. Define the Shared State\\n\\nThis shared GraphState ensures that every node can read/write from the same context.\\n\\n## 4. Initialize the Gemini LLM [...] You’ve now built a fully functional, multi-agent chatbot using LangGraph. This system can dynamically route queries, interface with real APIs, and manage context across sessions. It’s modular, explainable, and future-proof — making it a strong foundation for more advanced AI assistants.\", \"score\": 0.82288796, \"raw_content\": null, \"favicon\": \"https://miro.medium.com/v2/resize:fill:152:152/10fd5c419ac61637245384e7099e131627900034828f4f386bdaa47a74eae156\"}], \"response_time\": 2.89}\n",
      "==================================\u001b[1m Ai Message \u001b[0m==================================\n",
      "\n",
      "Based on the output, it seems that the tools have provided some information on how to build agentic workflows with LangGraph framework. The results include two articles that provide step-by-step guides on building agentic workflows with LangGraph and Gemini LLM. The articles cover topics such as installation, environment setup, core concepts in LangGraph, defining shared state, and initializing the Gemini LLM.\n",
      "\n",
      "It appears that the articles are providing a comprehensive guide on how to build agentic workflows with LangGraph, including setting up the environment, defining the shared state, and initializing the Gemini LLM. The articles also provide examples of how to use LangGraph to build a fully functional, multi-agent chatbot.\n",
      "\n",
      "Based on the output, I can provide a summary of the results and provide additional information on how to build agentic workflows with LangGraph.\n"
     ]
    }
   ],
   "source": [
    "human_resp = (\"You can build agentic workflow easily with the help of langgraph framwork\")\n",
    "\n",
    "humen_feedback = Command(resume = {'data' : human_resp})\n",
    "\n",
    "events = gr.stream(\n",
    "    humen_feedback,\n",
    "    config = config,\n",
    "    stream_mode = 'values'\n",
    ")\n",
    "\n",
    "for ev in events:\n",
    "    if 'messages' in ev: ev['messages'][-1].pretty_print()"
   ]
  },
  {
   "cell_type": "code",
   "execution_count": null,
   "id": "885b2158",
   "metadata": {},
   "outputs": [],
   "source": []
  },
  {
   "cell_type": "code",
   "execution_count": null,
   "id": "972e6a26",
   "metadata": {},
   "outputs": [],
   "source": []
  },
  {
   "cell_type": "code",
   "execution_count": null,
   "id": "9efd3f68",
   "metadata": {},
   "outputs": [],
   "source": []
  }
 ],
 "metadata": {
  "kernelspec": {
   "display_name": ".venv",
   "language": "python",
   "name": "python3"
  },
  "language_info": {
   "codemirror_mode": {
    "name": "ipython",
    "version": 3
   },
   "file_extension": ".py",
   "mimetype": "text/x-python",
   "name": "python",
   "nbconvert_exporter": "python",
   "pygments_lexer": "ipython3",
   "version": "3.13.0"
  }
 },
 "nbformat": 4,
 "nbformat_minor": 5
}
